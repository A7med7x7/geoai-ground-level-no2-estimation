{
 "cells": [
  {
   "cell_type": "markdown",
   "metadata": {},
   "source": [
    "# Importings"
   ]
  },
  {
   "cell_type": "code",
   "execution_count": 32,
   "metadata": {},
   "outputs": [],
   "source": [
    "import pandas as pd                                    # for data\n",
    "import numpy as np                                     # for math\n",
    "from lightgbm import LGBMRegressor                     # Validation model\n",
    "from sklearn.metrics import mean_squared_error         # Regressortion metric\n",
    "from sklearn.model_selection import GroupKFold,KFold, TimeSeriesSplit   # for validation\n",
    "from sklearn.preprocessing import LabelEncoder         # for encoding\n",
    "import sklearn.manifold._t_sne as tsne                 # for t_sne\n",
    "import seaborn as sns                     \n",
    "from sklearn.model_selection import TimeSeriesSplit# for plotting\n",
    "import matplotlib.pyplot as plt    \n",
    "from statsmodels.graphics.tsaplots import plot_acf\n",
    "from matplotlib import rcParams\n",
    "from statsmodels.tsa.seasonal import seasonal_decompose\n",
    "from scipy.stats import rankdata\n",
    "import xgboost as xgb \n",
    "from sklearn.cluster import KMeans\n",
    "train = pd.read_csv('/Users/ahmed/Downloads/computerscience/Kaggle/geoai-ground-level-no2-estimation/geoai-ground/data/Train.csv') \n",
    "test = pd.read_csv('/Users/ahmed/Downloads/computerscience/Kaggle/geoai-ground-level-no2-estimation/geoai-ground/data/Test.csv')\n",
    "groups = train['ID']\n",
    "test_id = test['ID_Zindi']\n",
    "pd.options.display.max_columns = 200\n"
   ]
  },
  {
   "cell_type": "code",
   "execution_count": 33,
   "metadata": {},
   "outputs": [],
   "source": [
    "def post_process(test_data,y,feature_to_mean='Month') -> int:\n",
    "    test_data['target'] = y\n",
    "    test_data['target_month'] = test_data[feature_to_mean].map(test_data[[feature_to_mean,'target']].groupby(feature_to_mean)['target'].mean())\n",
    "    test_data.drop(columns='target',inplace=True)\n",
    "    return test_data['target_month']"
   ]
  },
  {
   "cell_type": "code",
   "execution_count": 57,
   "metadata": {},
   "outputs": [
    {
     "ename": "SyntaxError",
     "evalue": "cannot assign to subscript here. Maybe you meant '==' instead of '='? (1752054080.py, line 1)",
     "output_type": "error",
     "traceback": [
      "\u001b[0;36m  Cell \u001b[0;32mIn[57], line 1\u001b[0;36m\u001b[0m\n\u001b[0;31m    train = train[train.loc[train['Precipitation'] > 100.0] = 0]\u001b[0m\n\u001b[0m                  ^\u001b[0m\n\u001b[0;31mSyntaxError\u001b[0m\u001b[0;31m:\u001b[0m cannot assign to subscript here. Maybe you meant '==' instead of '='?\n"
     ]
    }
   ],
   "source": [
    "train = train[train.loc[train['Precipitation'] > 100.0] = 0]\n"
   ]
  },
  {
   "cell_type": "code",
   "execution_count": 48,
   "metadata": {},
   "outputs": [
    {
     "data": {
      "text/html": [
       "<div>\n",
       "<style scoped>\n",
       "    .dataframe tbody tr th:only-of-type {\n",
       "        vertical-align: middle;\n",
       "    }\n",
       "\n",
       "    .dataframe tbody tr th {\n",
       "        vertical-align: top;\n",
       "    }\n",
       "\n",
       "    .dataframe thead th {\n",
       "        text-align: right;\n",
       "    }\n",
       "</style>\n",
       "<table border=\"1\" class=\"dataframe\">\n",
       "  <thead>\n",
       "    <tr style=\"text-align: right;\">\n",
       "      <th></th>\n",
       "      <th>LAT</th>\n",
       "      <th>LON</th>\n",
       "      <th>Precipitation</th>\n",
       "      <th>LST</th>\n",
       "      <th>AAI</th>\n",
       "      <th>CloudFraction</th>\n",
       "      <th>NO2_strat</th>\n",
       "      <th>NO2_total</th>\n",
       "      <th>NO2_trop</th>\n",
       "      <th>TropopausePressure</th>\n",
       "    </tr>\n",
       "  </thead>\n",
       "  <tbody>\n",
       "    <tr>\n",
       "      <th>count</th>\n",
       "      <td>6576.000000</td>\n",
       "      <td>6576.000000</td>\n",
       "      <td>6576.000000</td>\n",
       "      <td>3595.000000</td>\n",
       "      <td>5708.000000</td>\n",
       "      <td>5708.000000</td>\n",
       "      <td>5708.000000</td>\n",
       "      <td>5708.000000</td>\n",
       "      <td>3998.000000</td>\n",
       "      <td>5708.000000</td>\n",
       "    </tr>\n",
       "    <tr>\n",
       "      <th>mean</th>\n",
       "      <td>45.363205</td>\n",
       "      <td>10.489789</td>\n",
       "      <td>2.544018</td>\n",
       "      <td>299.394019</td>\n",
       "      <td>-1.273390</td>\n",
       "      <td>0.203512</td>\n",
       "      <td>0.000045</td>\n",
       "      <td>0.000135</td>\n",
       "      <td>0.000081</td>\n",
       "      <td>16673.339355</td>\n",
       "    </tr>\n",
       "    <tr>\n",
       "      <th>std</th>\n",
       "      <td>0.260667</td>\n",
       "      <td>1.306469</td>\n",
       "      <td>7.475326</td>\n",
       "      <td>11.034047</td>\n",
       "      <td>0.691949</td>\n",
       "      <td>0.269866</td>\n",
       "      <td>0.000012</td>\n",
       "      <td>0.000084</td>\n",
       "      <td>0.000067</td>\n",
       "      <td>3007.160286</td>\n",
       "    </tr>\n",
       "    <tr>\n",
       "      <th>min</th>\n",
       "      <td>45.131947</td>\n",
       "      <td>8.842165</td>\n",
       "      <td>0.000000</td>\n",
       "      <td>254.720000</td>\n",
       "      <td>-3.716866</td>\n",
       "      <td>0.000000</td>\n",
       "      <td>0.000013</td>\n",
       "      <td>0.000006</td>\n",
       "      <td>-0.000009</td>\n",
       "      <td>8614.512125</td>\n",
       "    </tr>\n",
       "    <tr>\n",
       "      <th>25%</th>\n",
       "      <td>45.151743</td>\n",
       "      <td>9.146666</td>\n",
       "      <td>0.000000</td>\n",
       "      <td>291.040000</td>\n",
       "      <td>-1.753032</td>\n",
       "      <td>0.013360</td>\n",
       "      <td>0.000034</td>\n",
       "      <td>0.000094</td>\n",
       "      <td>0.000041</td>\n",
       "      <td>14433.046735</td>\n",
       "    </tr>\n",
       "    <tr>\n",
       "      <th>50%</th>\n",
       "      <td>45.237853</td>\n",
       "      <td>10.398575</td>\n",
       "      <td>0.000000</td>\n",
       "      <td>300.900000</td>\n",
       "      <td>-1.363993</td>\n",
       "      <td>0.070884</td>\n",
       "      <td>0.000047</td>\n",
       "      <td>0.000111</td>\n",
       "      <td>0.000058</td>\n",
       "      <td>16714.003425</td>\n",
       "    </tr>\n",
       "    <tr>\n",
       "      <th>75%</th>\n",
       "      <td>45.582894</td>\n",
       "      <td>11.642394</td>\n",
       "      <td>0.000000</td>\n",
       "      <td>308.120000</td>\n",
       "      <td>-0.876478</td>\n",
       "      <td>0.296377</td>\n",
       "      <td>0.000056</td>\n",
       "      <td>0.000144</td>\n",
       "      <td>0.000097</td>\n",
       "      <td>19260.483658</td>\n",
       "    </tr>\n",
       "    <tr>\n",
       "      <th>max</th>\n",
       "      <td>45.836941</td>\n",
       "      <td>12.510362</td>\n",
       "      <td>103.227943</td>\n",
       "      <td>324.140000</td>\n",
       "      <td>2.474583</td>\n",
       "      <td>1.000000</td>\n",
       "      <td>0.000072</td>\n",
       "      <td>0.001454</td>\n",
       "      <td>0.000960</td>\n",
       "      <td>24424.343390</td>\n",
       "    </tr>\n",
       "  </tbody>\n",
       "</table>\n",
       "</div>"
      ],
      "text/plain": [
       "               LAT          LON  Precipitation          LST          AAI  \\\n",
       "count  6576.000000  6576.000000    6576.000000  3595.000000  5708.000000   \n",
       "mean     45.363205    10.489789       2.544018   299.394019    -1.273390   \n",
       "std       0.260667     1.306469       7.475326    11.034047     0.691949   \n",
       "min      45.131947     8.842165       0.000000   254.720000    -3.716866   \n",
       "25%      45.151743     9.146666       0.000000   291.040000    -1.753032   \n",
       "50%      45.237853    10.398575       0.000000   300.900000    -1.363993   \n",
       "75%      45.582894    11.642394       0.000000   308.120000    -0.876478   \n",
       "max      45.836941    12.510362     103.227943   324.140000     2.474583   \n",
       "\n",
       "       CloudFraction    NO2_strat    NO2_total     NO2_trop  \\\n",
       "count    5708.000000  5708.000000  5708.000000  3998.000000   \n",
       "mean        0.203512     0.000045     0.000135     0.000081   \n",
       "std         0.269866     0.000012     0.000084     0.000067   \n",
       "min         0.000000     0.000013     0.000006    -0.000009   \n",
       "25%         0.013360     0.000034     0.000094     0.000041   \n",
       "50%         0.070884     0.000047     0.000111     0.000058   \n",
       "75%         0.296377     0.000056     0.000144     0.000097   \n",
       "max         1.000000     0.000072     0.001454     0.000960   \n",
       "\n",
       "       TropopausePressure  \n",
       "count         5708.000000  \n",
       "mean         16673.339355  \n",
       "std           3007.160286  \n",
       "min           8614.512125  \n",
       "25%          14433.046735  \n",
       "50%          16714.003425  \n",
       "75%          19260.483658  \n",
       "max          24424.343390  "
      ]
     },
     "execution_count": 48,
     "metadata": {},
     "output_type": "execute_result"
    }
   ],
   "source": [
    "test.describe()"
   ]
  },
  {
   "cell_type": "code",
   "execution_count": 43,
   "metadata": {},
   "outputs": [
    {
     "data": {
      "text/html": [
       "<div>\n",
       "<style scoped>\n",
       "    .dataframe tbody tr th:only-of-type {\n",
       "        vertical-align: middle;\n",
       "    }\n",
       "\n",
       "    .dataframe tbody tr th {\n",
       "        vertical-align: top;\n",
       "    }\n",
       "\n",
       "    .dataframe thead th {\n",
       "        text-align: right;\n",
       "    }\n",
       "</style>\n",
       "<table border=\"1\" class=\"dataframe\">\n",
       "  <thead>\n",
       "    <tr style=\"text-align: right;\">\n",
       "      <th></th>\n",
       "      <th>ID_Zindi</th>\n",
       "      <th>Date</th>\n",
       "      <th>ID</th>\n",
       "      <th>LAT</th>\n",
       "      <th>LON</th>\n",
       "      <th>Precipitation</th>\n",
       "      <th>LST</th>\n",
       "      <th>AAI</th>\n",
       "      <th>CloudFraction</th>\n",
       "      <th>NO2_strat</th>\n",
       "      <th>NO2_total</th>\n",
       "      <th>NO2_trop</th>\n",
       "      <th>TropopausePressure</th>\n",
       "      <th>GT_NO2</th>\n",
       "    </tr>\n",
       "  </thead>\n",
       "  <tbody>\n",
       "  </tbody>\n",
       "</table>\n",
       "</div>"
      ],
      "text/plain": [
       "Empty DataFrame\n",
       "Columns: [ID_Zindi, Date, ID, LAT, LON, Precipitation, LST, AAI, CloudFraction, NO2_strat, NO2_total, NO2_trop, TropopausePressure, GT_NO2]\n",
       "Index: []"
      ]
     },
     "execution_count": 43,
     "metadata": {},
     "output_type": "execute_result"
    }
   ],
   "source": [
    "train[train['ID'].isin(['PD03', 'TV03', 'X5561', 'X5953', 'X6701', 'X6877'])]"
   ]
  },
  {
   "cell_type": "markdown",
   "metadata": {},
   "source": [
    "# Feature Engineering"
   ]
  },
  {
   "cell_type": "code",
   "execution_count": null,
   "metadata": {},
   "outputs": [
    {
     "name": "stderr",
     "output_type": "stream",
     "text": [
      "/var/folders/4c/h16036bx2ync7wqkqvrl2p1h0000gn/T/ipykernel_8307/1927459310.py:5: UserWarning: Could not infer format, so each element will be parsed individually, falling back to `dateutil`. To ensure parsing is consistent and as-expected, please specify a format.\n",
      "  df['Date'] = pd.to_datetime(df['Date'])\n",
      "/var/folders/4c/h16036bx2ync7wqkqvrl2p1h0000gn/T/ipykernel_8307/1927459310.py:5: UserWarning: Could not infer format, so each element will be parsed individually, falling back to `dateutil`. To ensure parsing is consistent and as-expected, please specify a format.\n",
      "  df['Date'] = pd.to_datetime(df['Date'])\n"
     ]
    },
    {
     "data": {
      "text/plain": [
       "'def MeanSd(feature1, feature2):\\n    for dataset in (train,test):\\n        dataset[\"SD\" + feature1] = dataset[[feature1,feature2]].std(axis=1)\\n        dataset[\"MEAN\" + feature1] = dataset[[feature1,feature2]].mean(axis=1)\\n\\nMeanSd(\\'NO2_trop\\',\\'NO2_total\\')\\nMeanSd(\\'LON\\',\\'LAT\\')'"
      ]
     },
     "execution_count": 21,
     "metadata": {},
     "output_type": "execute_result"
    }
   ],
   "source": [
    "\"\"\"train = train.sort_values('Date').reset_index(drop=True) \n",
    "test = test.sort_values('Date').reset_index(drop=True)\n",
    "\"\"\"\n",
    "for df in (train,test):\n",
    "    df['Date'] = pd.to_datetime(df['Date'])\n",
    "    #df['Day'] =  df['Date'].dt.day\n",
    "    df['Month'] = df['Date'].dt.month\n",
    "    #df['target_month'] = df['Month'].map(df[['Month','GT_NO2']].groupby('Month')['GT_NO2'].mean())\n",
    "    #df['Month'] = df['Date'].dt.is_month_start\n",
    "    #df['Year'] =  df['Date'].dt.year\n",
    "    #df.set_index(df['Date'],inplace=True)\n",
    "    #df['DayOfWeek'] =  df['Date'].dt.dayofweek\n",
    "    df.drop(columns=['ID_Zindi'],inplace=True)\n",
    "    \n",
    "#Lags\n",
    "#for df in(train,test): \n",
    "    #df['Precipitation_inter1'] = df['TropopausePressure'] + df['Precipitation']\n",
    "    #df['Precipitation_log'] =  np.log(df['Precipitation'] + 1e-9)\n",
    "    #df['CloudFraction_diff'] = df['CloudFraction'] / df['NO2_strat']\n",
    "    #df['CloudFraction_diff2'] = df['CloudFraction'] / df['NO2_total']\n",
    "    #['Precipitation_fractional'] = df['Precipitation'] * 0.00001\n",
    "    #df['TropopausePressure_fractional'] = round(df['TropopausePressure'] * 0.00001,2)\n",
    "    #df['cluster'] = kmeans.fit_transform(df[['LAT', 'LON']])\n",
    "    #df['cloud_fraction1'] = df['CloudFraction'] % df['NO2_strat']\n",
    "    #df['cloud_fraction1'] = df['CloudFraction'] % df['NO2_total']\n",
    "\n",
    "#for df in(train,test): \n",
    "    #Rolling (Moving Average)\n",
    "    #df['feature_rolling_3_mean'] = df['TropopausePressure'].rolling(5).mean()\n",
    "    #df['feature_rolling_7_mean'] = df['TropopausePressure'].rolling(7).mean()\n",
    "    #df['feature_rolling_7_std'] = df['TropopausePressure'].rolling(7).std()\n",
    "    #df['NO2_strat_rolling7'] = df['NO2_strat'].rolling(7).mean()\n",
    "    #df['NO2_strat_rolling30'] = df['NO2_strat'].rolling(30).mean()\n",
    "    #df['NO2_strat_rolling2'] = df['NO2_strat'].rolling(9).mean()\n",
    "#statsitics of similar variables\n",
    "\n",
    "\"\"\"def MeanSd(feature1, feature2):\n",
    "    for dataset in (train,test):\n",
    "        dataset[\"SD\" + feature1] = dataset[[feature1,feature2]].std(axis=1)\n",
    "        dataset[\"MEAN\" + feature1] = dataset[[feature1,feature2]].mean(axis=1)\n",
    "\n",
    "MeanSd('NO2_trop','NO2_total')\n",
    "MeanSd('LON','LAT')\"\"\""
   ]
  },
  {
   "cell_type": "code",
   "execution_count": null,
   "metadata": {},
   "outputs": [],
   "source": [
    "#for df in(train,test): \n",
    "    #df['LST_mean_60'] = df['LST'].rolling(60).mean()\n",
    "    #df['Prec_mean_60'] = df['Precipitation'].rolling(60).mean()\n",
    "    #df['AII_mean'] = df['AAI'].rolling(60).mean()\n",
    "    #df['no2_total'] = df['NO2_total'].rolling(60).min()\n",
    "\n",
    "    #df['feature_rolling_3_mean'] = df['TropopausePressure'].rolling(5).mean()\n",
    "    #df['feature_rolling_7_mean'] = df['TropopausePressure'].rolling(7).mean()\n",
    "    #df['feature_rolling_7_std'] = df['TropopausePressure'].rolling(7).std()\n",
    "    #df['NO2_strat_rolling7'] = df['NO2_strat'].rolling(7).mean()\n",
    "    #df['NO2_strat_rolling30'] = df['NO2_strat'].rolling(30).mean()\n",
    "    #df['NO2_strat_rolling2'] = df['NO2_strat'].rolling(9).mean()\n",
    "\n",
    "\n",
    "def rolling(feature):\n",
    "    for dataset in (train,test):\n",
    "        #dataset[f\"{feature}_rolling_mean_60\"] = dataset[feature].rolling(60).mean()\n",
    "        dataset[f\"{feature}_rolling_max_60\"] = dataset[feature].rolling(60).max()\n",
    "        #dataset[f\"{feature}_rolling_min_60\"] = dataset[feature].rolling(60).min()\n",
    "\n",
    "\n",
    "rolling('NO2_trop')\n",
    "rolling('NO2_total')\n",
    "rolling('TropopausePressure')\n",
    "rolling('CloudFraction')\n",
    "#rolling('AAI')\n",
    "#rolling('LST')\n",
    "rolling('Precipitation')"
   ]
  },
  {
   "cell_type": "markdown",
   "metadata": {},
   "source": [
    "# Missing Values & Encoding"
   ]
  },
  {
   "cell_type": "code",
   "execution_count": null,
   "metadata": {},
   "outputs": [],
   "source": [
    "groups = train['ID']\n",
    "for df in(train,test):\n",
    "    df.drop(columns=[\"Date\"], axis=1,inplace=True)\n",
    "le = LabelEncoder()\n",
    "for df in(train,test): \n",
    "    for col in df.columns: \n",
    "        if df[col].dtype == 'object': \n",
    "            df[col] = le.fit_transform(df[col])"
   ]
  },
  {
   "cell_type": "markdown",
   "metadata": {},
   "source": [
    "# CV and Modeling"
   ]
  },
  {
   "cell_type": "code",
   "execution_count": null,
   "metadata": {},
   "outputs": [],
   "source": [
    "#groups = train['ID']\n",
    "model =  LGBMRegressor(random_state=7)\n",
    "n_splits = 5\n",
    "n = train['GT_NO2'].count()\n",
    "num_bins = int(1 + np.log2(n))\n",
    "#train['GT_NO2_bins'] = pd.cut(train['GT_NO2'], bins=num_bins, labels=False)\n",
    "#test['GT_NO2_bins'] = pd.cut(test['GT_NO2'], bins=num_bins, labels=False)"
   ]
  },
  {
   "cell_type": "code",
   "execution_count": null,
   "metadata": {},
   "outputs": [
    {
     "name": "stdout",
     "output_type": "stream",
     "text": [
      "[LightGBM] [Info] Auto-choosing col-wise multi-threading, the overhead of testing was 0.001760 seconds.\n",
      "You can set `force_col_wise=true` to remove the overhead.\n",
      "[LightGBM] [Info] Total Bins 1020\n",
      "[LightGBM] [Info] Number of data points in the train set: 73432, number of used features: 4\n",
      "[LightGBM] [Info] Start training from score 22.947247\n",
      "std: 18.17039326297426\n",
      "score: 14.478139165567367\n",
      "[LightGBM] [Info] Auto-choosing row-wise multi-threading, the overhead of testing was 0.000249 seconds.\n",
      "You can set `force_row_wise=true` to remove the overhead.\n",
      "And if memory is not enough, you can set `force_col_wise=true`.\n",
      "[LightGBM] [Info] Total Bins 1020\n",
      "[LightGBM] [Info] Number of data points in the train set: 73432, number of used features: 4\n",
      "[LightGBM] [Info] Start training from score 23.608344\n",
      "std: 13.449154151195614\n",
      "score: 10.152123540868873\n"
     ]
    },
    {
     "name": "stderr",
     "output_type": "stream",
     "text": [
      "/Users/ahmed/Downloads/computerscience/Kaggle/geoai-ground-level-no2-estimation/geoai-ground/venv-geoai-ground-level-no2-estimation/lib/python3.12/site-packages/sklearn/metrics/_regression.py:492: FutureWarning: 'squared' is deprecated in version 1.4 and will be removed in 1.6. To calculate the root mean squared error, use the function'root_mean_squared_error'.\n",
      "  warnings.warn(\n",
      "/Users/ahmed/Downloads/computerscience/Kaggle/geoai-ground-level-no2-estimation/geoai-ground/venv-geoai-ground-level-no2-estimation/lib/python3.12/site-packages/sklearn/metrics/_regression.py:492: FutureWarning: 'squared' is deprecated in version 1.4 and will be removed in 1.6. To calculate the root mean squared error, use the function'root_mean_squared_error'.\n",
      "  warnings.warn(\n"
     ]
    },
    {
     "name": "stdout",
     "output_type": "stream",
     "text": [
      "[LightGBM] [Info] Auto-choosing row-wise multi-threading, the overhead of testing was 0.004095 seconds.\n",
      "You can set `force_row_wise=true` to remove the overhead.\n",
      "And if memory is not enough, you can set `force_col_wise=true`.\n",
      "[LightGBM] [Info] Total Bins 1020\n",
      "[LightGBM] [Info] Number of data points in the train set: 74528, number of used features: 4\n",
      "[LightGBM] [Info] Start training from score 22.876272\n",
      "std: 18.340023119076278\n",
      "score: 12.582331830362191\n",
      "[LightGBM] [Info] Auto-choosing row-wise multi-threading, the overhead of testing was 0.000217 seconds.\n",
      "You can set `force_row_wise=true` to remove the overhead.\n",
      "And if memory is not enough, you can set `force_col_wise=true`.\n",
      "[LightGBM] [Info] Total Bins 1020\n",
      "[LightGBM] [Info] Number of data points in the train set: 74528, number of used features: 4\n",
      "[LightGBM] [Info] Start training from score 23.128862\n"
     ]
    },
    {
     "name": "stderr",
     "output_type": "stream",
     "text": [
      "/Users/ahmed/Downloads/computerscience/Kaggle/geoai-ground-level-no2-estimation/geoai-ground/venv-geoai-ground-level-no2-estimation/lib/python3.12/site-packages/sklearn/metrics/_regression.py:492: FutureWarning: 'squared' is deprecated in version 1.4 and will be removed in 1.6. To calculate the root mean squared error, use the function'root_mean_squared_error'.\n",
      "  warnings.warn(\n"
     ]
    },
    {
     "name": "stdout",
     "output_type": "stream",
     "text": [
      "std: 16.80005938565427\n",
      "score: 11.419647087072759\n",
      "[LightGBM] [Info] Auto-choosing row-wise multi-threading, the overhead of testing was 0.000423 seconds.\n",
      "You can set `force_row_wise=true` to remove the overhead.\n",
      "And if memory is not enough, you can set `force_col_wise=true`.\n",
      "[LightGBM] [Info] Total Bins 1020\n",
      "[LightGBM] [Info] Number of data points in the train set: 74528, number of used features: 4\n",
      "[LightGBM] [Info] Start training from score 23.182723\n",
      "std: 18.52859596885474\n",
      "score: 13.274535114519244\n"
     ]
    },
    {
     "name": "stderr",
     "output_type": "stream",
     "text": [
      "/Users/ahmed/Downloads/computerscience/Kaggle/geoai-ground-level-no2-estimation/geoai-ground/venv-geoai-ground-level-no2-estimation/lib/python3.12/site-packages/sklearn/metrics/_regression.py:492: FutureWarning: 'squared' is deprecated in version 1.4 and will be removed in 1.6. To calculate the root mean squared error, use the function'root_mean_squared_error'.\n",
      "  warnings.warn(\n",
      "/Users/ahmed/Downloads/computerscience/Kaggle/geoai-ground-level-no2-estimation/geoai-ground/venv-geoai-ground-level-no2-estimation/lib/python3.12/site-packages/sklearn/metrics/_regression.py:492: FutureWarning: 'squared' is deprecated in version 1.4 and will be removed in 1.6. To calculate the root mean squared error, use the function'root_mean_squared_error'.\n",
      "  warnings.warn(\n"
     ]
    },
    {
     "name": "stdout",
     "output_type": "stream",
     "text": [
      "[LightGBM] [Info] Auto-choosing row-wise multi-threading, the overhead of testing was 0.000220 seconds.\n",
      "You can set `force_row_wise=true` to remove the overhead.\n",
      "And if memory is not enough, you can set `force_col_wise=true`.\n",
      "[LightGBM] [Info] Total Bins 1020\n",
      "[LightGBM] [Info] Number of data points in the train set: 74528, number of used features: 4\n",
      "[LightGBM] [Info] Start training from score 23.569752\n",
      "std: 16.103576285616374\n",
      "score: 11.225756794273899\n",
      "[LightGBM] [Info] Auto-choosing row-wise multi-threading, the overhead of testing was 0.000315 seconds.\n",
      "You can set `force_row_wise=true` to remove the overhead.\n",
      "And if memory is not enough, you can set `force_col_wise=true`.\n",
      "[LightGBM] [Info] Total Bins 1020\n",
      "[LightGBM] [Info] Number of data points in the train set: 74528, number of used features: 4\n",
      "[LightGBM] [Info] Start training from score 23.441437\n"
     ]
    },
    {
     "name": "stderr",
     "output_type": "stream",
     "text": [
      "/Users/ahmed/Downloads/computerscience/Kaggle/geoai-ground-level-no2-estimation/geoai-ground/venv-geoai-ground-level-no2-estimation/lib/python3.12/site-packages/sklearn/metrics/_regression.py:492: FutureWarning: 'squared' is deprecated in version 1.4 and will be removed in 1.6. To calculate the root mean squared error, use the function'root_mean_squared_error'.\n",
      "  warnings.warn(\n"
     ]
    },
    {
     "name": "stdout",
     "output_type": "stream",
     "text": [
      "std: 17.308240414323457\n",
      "score: 11.977869148166668\n",
      "RMSE: 12.158628954404431\n",
      "RMSE std: 1.3244934910294908\n",
      "Standard Deviations: [np.float64(18.17039326297426), np.float64(13.449154151195614), np.float64(18.340023119076278), np.float64(16.80005938565427), np.float64(18.52859596885474), np.float64(16.103576285616377), np.float64(17.308240414323457)]\n"
     ]
    },
    {
     "name": "stderr",
     "output_type": "stream",
     "text": [
      "/Users/ahmed/Downloads/computerscience/Kaggle/geoai-ground-level-no2-estimation/geoai-ground/venv-geoai-ground-level-no2-estimation/lib/python3.12/site-packages/sklearn/metrics/_regression.py:492: FutureWarning: 'squared' is deprecated in version 1.4 and will be removed in 1.6. To calculate the root mean squared error, use the function'root_mean_squared_error'.\n",
      "  warnings.warn(\n"
     ]
    }
   ],
   "source": [
    "\n",
    "n_splits = 7\n",
    "cv = GroupKFold(n_splits=n_splits)\n",
    "train = train[['NO2_strat', 'NO2_total', 'NO2_trop', 'TropopausePressure', 'GT_NO2']]\n",
    "test = test[['NO2_strat', 'NO2_total', 'NO2_trop', 'TropopausePressure']]\n",
    "def validate(trainset, testset, target_col):\n",
    "\n",
    "    model.fit(trainset.drop(columns=target_col), trainset[target_col])\n",
    "    pred = model.predict(testset.drop(columns=target_col))\n",
    "    valid_idx = testset[target_col].notna()\n",
    "    valid_testset = testset[target_col][valid_idx]\n",
    "    valid_pred = pred[valid_idx]\n",
    "    print('std:', valid_testset.std())\n",
    "    score = mean_squared_error(valid_testset, valid_pred, squared=False)\n",
    "    print('score:', score)\n",
    "    \n",
    "    return score\n",
    "stds = []\n",
    "rmse = []\n",
    "\n",
    "for train_idx, test_idx in cv.split(train.drop(columns='GT_NO2'), train['GT_NO2'], groups=groups):\n",
    "    train_v, test_v = train.iloc[train_idx], train.iloc[test_idx]\n",
    "    stds.append(test_v['GT_NO2'].std())\n",
    "    rmse.append(validate(train_v, test_v, 'GT_NO2'))\n",
    "\n",
    "print('RMSE:', np.array(rmse).mean())\n",
    "print('RMSE std:', np.array(rmse).std())\n",
    "print('Standard Deviations:', stds)"
   ]
  },
  {
   "cell_type": "code",
   "execution_count": null,
   "metadata": {},
   "outputs": [
    {
     "data": {
      "text/plain": [
       "[np.float64(14.478139165567367),\n",
       " np.float64(10.152123540868873),\n",
       " np.float64(12.582331830362191),\n",
       " np.float64(11.419647087072759),\n",
       " np.float64(13.274535114519244),\n",
       " np.float64(11.225756794273899),\n",
       " np.float64(11.977869148166668)]"
      ]
     },
     "execution_count": 27,
     "metadata": {},
     "output_type": "execute_result"
    }
   ],
   "source": [
    "rmse"
   ]
  },
  {
   "cell_type": "code",
   "execution_count": null,
   "metadata": {},
   "outputs": [],
   "source": [
    "#11.581549939504997 with month , \n",
    "#12.246931687286574\n",
    "#12.235259341356834\n",
    "#12.231869616518921\n",
    "#12.126333476852636\n",
    "#11.728753513719479\n",
    "#11.724263538742687\n",
    "#11.728753513719479 \n",
    "#11.711277895239192\n",
    "#11.694341231865433\n",
    "#11.671982426722977\n",
    "#11.642227859275334 without the mean - with the custamized means of rolling\n",
    "#11.314985626750522 \n",
    "#11.314985626750522\n",
    "#11.312413659993586\n",
    "#11.135932399851725 \n",
    "#11.728753513719479 best so far features = ['LAT', 'Month','NO2_trop_rolling_max_60','NO2_total_rolling_max_60','TropopausePressure_rolling_max_60','CloudFraction_rolling_max_60','Precipitation_rolling_max_60']\n",
    "#11.40320255907346 with the ID LB = 9.571700669\n",
    "#11.597286160951526 the distance feature"
   ]
  },
  {
   "cell_type": "code",
   "execution_count": null,
   "metadata": {},
   "outputs": [
    {
     "ename": "NameError",
     "evalue": "name 'hshsd' is not defined",
     "output_type": "error",
     "traceback": [
      "\u001b[0;31m---------------------------------------------------------------------------\u001b[0m",
      "\u001b[0;31mNameError\u001b[0m                                 Traceback (most recent call last)",
      "Cell \u001b[0;32mIn[29], line 1\u001b[0m\n\u001b[0;32m----> 1\u001b[0m \u001b[43mhshsd\u001b[49m\n",
      "\u001b[0;31mNameError\u001b[0m: name 'hshsd' is not defined"
     ]
    }
   ],
   "source": [
    "hshsd"
   ]
  },
  {
   "cell_type": "code",
   "execution_count": null,
   "metadata": {},
   "outputs": [
    {
     "name": "stdout",
     "output_type": "stream",
     "text": [
      "[LightGBM] [Info] Auto-choosing row-wise multi-threading, the overhead of testing was 0.002423 seconds.\n",
      "You can set `force_row_wise=true` to remove the overhead.\n",
      "And if memory is not enough, you can set `force_col_wise=true`.\n",
      "[LightGBM] [Info] Total Bins 3464\n",
      "[LightGBM] [Info] Number of data points in the train set: 86584, number of used features: 16\n",
      "[LightGBM] [Info] Start training from score 23.250548\n"
     ]
    }
   ],
   "source": [
    "model.fit(train.drop(columns='GT_NO2'),train['GT_NO2'])\n",
    "y = model.predict(test)\n",
    "smaple = pd.read_csv('/Users/ahmed/Downloads/computerscience/Kaggle/geoai-ground-level-no2-estimation/geoai-ground/data/SampleSubmission.csv')\n",
    "smaple['GT_NO2'] = post_process(test,y)\n",
    "smaple.to_csv('submissionpost2.csv',index=False)"
   ]
  },
  {
   "cell_type": "code",
   "execution_count": null,
   "metadata": {},
   "outputs": [
    {
     "name": "stdout",
     "output_type": "stream",
     "text": [
      "[LightGBM] [Info] Auto-choosing row-wise multi-threading, the overhead of testing was 0.009118 seconds.\n",
      "You can set `force_row_wise=true` to remove the overhead.\n",
      "And if memory is not enough, you can set `force_col_wise=true`.\n",
      "[LightGBM] [Info] Total Bins 3543\n",
      "[LightGBM] [Info] Number of data points in the train set: 86584, number of used features: 17\n",
      "[LightGBM] [Info] Start training from score 23.250548\n"
     ]
    }
   ],
   "source": [
    "model.fit(train.drop(columns='GT_NO2'),train['GT_NO2'])\n",
    "y_pred = model.predict(test)\n",
    "sub_df = pd.DataFrame({'id': test_id,'GT_NO2':y_pred})\n",
    "sub_df.to_csv('/Users/ahmed/Downloads/computerscience/Kaggle/geoai-ground-level-no2-estimation/geoai-ground/submissions/submission1140320255907346.csv', index=False)"
   ]
  },
  {
   "cell_type": "code",
   "execution_count": null,
   "metadata": {},
   "outputs": [
    {
     "data": {
      "image/png": "[encoded data removed]",
      "text/plain": [
       "<Figure size 1000x600 with 1 Axes>"
      ]
     },
     "metadata": {},
     "output_type": "display_data"
    }
   ],
   "source": [
    "importances = model.feature_importances_\n",
    "names = model.feature_name_\n",
    "fi = pd.DataFrame({'Feature': names,\n",
    "                   'importances': importances})\n",
    "fi = fi.sort_values(by='importances', ascending=False)\n",
    "\n",
    "fi.plot(kind='bar', x='Feature', y='importances', legend=False, figsize=(10, 6))\n",
    "plt.title('Feature Importances')\n",
    "plt.xlabel('Features')\n",
    "plt.ylabel('Importance')\n",
    "plt.show()"
   ]
  },
  {
   "cell_type": "code",
   "execution_count": null,
   "metadata": {},
   "outputs": [
    {
     "data": {
      "text/plain": [
       "['ID',\n",
       " 'LAT',\n",
       " 'LON',\n",
       " 'Precipitation',\n",
       " 'LST',\n",
       " 'AAI',\n",
       " 'CloudFraction',\n",
       " 'NO2_strat',\n",
       " 'NO2_total',\n",
       " 'NO2_trop',\n",
       " 'TropopausePressure',\n",
       " 'Month',\n",
       " 'NO2_trop_rolling_max_60',\n",
       " 'NO2_total_rolling_max_60',\n",
       " 'TropopausePressure_rolling_max_60',\n",
       " 'CloudFraction_rolling_max_60',\n",
       " 'Precipitation_rolling_max_60']"
      ]
     },
     "execution_count": 474,
     "metadata": {},
     "output_type": "execute_result"
    }
   ],
   "source": [
    "names"
   ]
  },
  {
   "cell_type": "code",
   "execution_count": null,
   "metadata": {},
   "outputs": [],
   "source": []
  }
 ],
 "metadata": {
  "kernelspec": {
   "display_name": "venv-geoai-ground-level-no2-estimation",
   "language": "python",
   "name": "python3"
  },
  "language_info": {
   "codemirror_mode": {
    "name": "ipython",
    "version": 3
   },
   "file_extension": ".py",
   "mimetype": "text/x-python",
   "name": "python",
   "nbconvert_exporter": "python",
   "pygments_lexer": "ipython3",
   "version": "3.12.4"
  }
 },
 "nbformat": 4,
 "nbformat_minor": 2
}
