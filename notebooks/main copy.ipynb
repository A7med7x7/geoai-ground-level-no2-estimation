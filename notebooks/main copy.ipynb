{
 "cells": [
  {
   "cell_type": "markdown",
   "metadata": {},
   "source": [
    "# Importings"
   ]
  },
  {
   "cell_type": "code",
   "execution_count": 544,
   "metadata": {},
   "outputs": [],
   "source": [
    "import pandas as pd                                    # for data\n",
    "import numpy as np                                     # for math\n",
    "from lightgbm import LGBMRegressor                     # Validation model\n",
    "from sklearn.metrics import mean_squared_error         # Regressortion metric\n",
    "from sklearn.model_selection import GroupKFold,KFold, TimeSeriesSplit   # for validation\n",
    "from sklearn.preprocessing import LabelEncoder         # for encoding\n",
    "import sklearn.manifold._t_sne as tsne                 # for t_sne\n",
    "import seaborn as sns                     \n",
    "from sklearn.model_selection import TimeSeriesSplit# for plotting\n",
    "import matplotlib.pyplot as plt    \n",
    "from statsmodels.graphics.tsaplots import plot_acf\n",
    "from matplotlib import rcParams\n",
    "from statsmodels.tsa.seasonal import seasonal_decompose\n",
    "from scipy.stats import rankdata\n",
    "import xgboost as xgb \n",
    "from sklearn.cluster import KMeans\n",
    "train = pd.read_csv('/Users/ahmed/Downloads/computerscience/Kaggle/geoai-ground-level-no2-estimation/geoai-ground/data/Train.csv') \n",
    "test = pd.read_csv('/Users/ahmed/Downloads/computerscience/Kaggle/geoai-ground-level-no2-estimation/geoai-ground/data/Test.csv')\n",
    "groups = train['ID']\n",
    "test_id = test['ID_Zindi']\n",
    "pd.options.display.max_columns = 200\n"
   ]
  },
  {
   "cell_type": "code",
   "execution_count": 545,
   "metadata": {},
   "outputs": [],
   "source": [
    "def post_process(test_data,y,feature_to_mean='Month') -> int:\n",
    "    test_data['target'] = y\n",
    "    test_data['target_month'] = test_data[feature_to_mean].map(test_data[[feature_to_mean,'target']].groupby(feature_to_mean)['target'].mean())\n",
    "    test_data.drop(columns='target',inplace=True)\n",
    "    return test_data['target_month']"
   ]
  },
  {
   "cell_type": "code",
   "execution_count": 546,
   "metadata": {},
   "outputs": [
    {
     "name": "stdout",
     "output_type": "stream",
     "text": [
      "ID_Zindi\n",
      "False\n",
      "___________________\n",
      "Date\n",
      "False\n",
      "___________________\n",
      "ID\n",
      "False\n",
      "___________________\n",
      "LAT\n",
      "False\n",
      "___________________\n",
      "LON\n",
      "False\n",
      "___________________\n",
      "Precipitation\n",
      "False\n",
      "___________________\n",
      "LST\n",
      "False\n",
      "___________________\n",
      "AAI\n",
      "False\n",
      "___________________\n",
      "CloudFraction\n",
      "False\n",
      "___________________\n",
      "NO2_strat\n",
      "False\n",
      "___________________\n",
      "NO2_total\n",
      "False\n",
      "___________________\n",
      "NO2_trop\n",
      "False\n",
      "___________________\n",
      "TropopausePressure\n",
      "False\n",
      "___________________\n",
      "GT_NO2\n",
      "False\n",
      "___________________\n"
     ]
    }
   ],
   "source": [
    "for col in train.columns:\n",
    "    print(col)    \n",
    "    print(train[col].is_unique)\n",
    "    print(\"___________________\")"
   ]
  },
  {
   "cell_type": "code",
   "execution_count": 547,
   "metadata": {},
   "outputs": [
    {
     "data": {
      "text/html": [
       "<div>\n",
       "<style scoped>\n",
       "    .dataframe tbody tr th:only-of-type {\n",
       "        vertical-align: middle;\n",
       "    }\n",
       "\n",
       "    .dataframe tbody tr th {\n",
       "        vertical-align: top;\n",
       "    }\n",
       "\n",
       "    .dataframe thead th {\n",
       "        text-align: right;\n",
       "    }\n",
       "</style>\n",
       "<table border=\"1\" class=\"dataframe\">\n",
       "  <thead>\n",
       "    <tr style=\"text-align: right;\">\n",
       "      <th></th>\n",
       "      <th>LAT</th>\n",
       "      <th>LON</th>\n",
       "      <th>Precipitation</th>\n",
       "      <th>LST</th>\n",
       "      <th>AAI</th>\n",
       "      <th>CloudFraction</th>\n",
       "      <th>NO2_strat</th>\n",
       "      <th>NO2_total</th>\n",
       "      <th>NO2_trop</th>\n",
       "      <th>TropopausePressure</th>\n",
       "      <th>GT_NO2</th>\n",
       "    </tr>\n",
       "  </thead>\n",
       "  <tbody>\n",
       "    <tr>\n",
       "      <th>count</th>\n",
       "      <td>86584.000000</td>\n",
       "      <td>86584.000000</td>\n",
       "      <td>86584.000000</td>\n",
       "      <td>46798.000000</td>\n",
       "      <td>73709.000000</td>\n",
       "      <td>73709.000000</td>\n",
       "      <td>73709.000000</td>\n",
       "      <td>73709.000000</td>\n",
       "      <td>51111.000000</td>\n",
       "      <td>73709.000000</td>\n",
       "      <td>82051.000000</td>\n",
       "    </tr>\n",
       "    <tr>\n",
       "      <th>mean</th>\n",
       "      <td>45.421456</td>\n",
       "      <td>10.014272</td>\n",
       "      <td>2.585528</td>\n",
       "      <td>299.268841</td>\n",
       "      <td>-1.274999</td>\n",
       "      <td>0.200606</td>\n",
       "      <td>0.000045</td>\n",
       "      <td>0.000156</td>\n",
       "      <td>0.000105</td>\n",
       "      <td>16655.112392</td>\n",
       "      <td>24.535051</td>\n",
       "    </tr>\n",
       "    <tr>\n",
       "      <th>std</th>\n",
       "      <td>0.225409</td>\n",
       "      <td>1.056637</td>\n",
       "      <td>7.617394</td>\n",
       "      <td>10.927167</td>\n",
       "      <td>0.693003</td>\n",
       "      <td>0.259607</td>\n",
       "      <td>0.000012</td>\n",
       "      <td>0.000103</td>\n",
       "      <td>0.000092</td>\n",
       "      <td>3000.748790</td>\n",
       "      <td>17.108838</td>\n",
       "    </tr>\n",
       "    <tr>\n",
       "      <th>min</th>\n",
       "      <td>44.924694</td>\n",
       "      <td>8.736497</td>\n",
       "      <td>0.000000</td>\n",
       "      <td>253.200000</td>\n",
       "      <td>-5.196266</td>\n",
       "      <td>0.000000</td>\n",
       "      <td>0.000013</td>\n",
       "      <td>-0.000012</td>\n",
       "      <td>-0.000025</td>\n",
       "      <td>8614.349685</td>\n",
       "      <td>0.000000</td>\n",
       "    </tr>\n",
       "    <tr>\n",
       "      <th>25%</th>\n",
       "      <td>45.249544</td>\n",
       "      <td>9.195325</td>\n",
       "      <td>0.000000</td>\n",
       "      <td>290.920000</td>\n",
       "      <td>-1.749425</td>\n",
       "      <td>0.023900</td>\n",
       "      <td>0.000034</td>\n",
       "      <td>0.000100</td>\n",
       "      <td>0.000047</td>\n",
       "      <td>14432.114060</td>\n",
       "      <td>11.875000</td>\n",
       "    </tr>\n",
       "    <tr>\n",
       "      <th>50%</th>\n",
       "      <td>45.478996</td>\n",
       "      <td>9.611738</td>\n",
       "      <td>0.000000</td>\n",
       "      <td>300.760000</td>\n",
       "      <td>-1.349746</td>\n",
       "      <td>0.078478</td>\n",
       "      <td>0.000047</td>\n",
       "      <td>0.000122</td>\n",
       "      <td>0.000071</td>\n",
       "      <td>16711.190570</td>\n",
       "      <td>20.000000</td>\n",
       "    </tr>\n",
       "    <tr>\n",
       "      <th>75%</th>\n",
       "      <td>45.601232</td>\n",
       "      <td>10.683357</td>\n",
       "      <td>0.000000</td>\n",
       "      <td>307.940000</td>\n",
       "      <td>-0.878857</td>\n",
       "      <td>0.278451</td>\n",
       "      <td>0.000056</td>\n",
       "      <td>0.000173</td>\n",
       "      <td>0.000129</td>\n",
       "      <td>19252.648570</td>\n",
       "      <td>33.050000</td>\n",
       "    </tr>\n",
       "    <tr>\n",
       "      <th>max</th>\n",
       "      <td>45.889734</td>\n",
       "      <td>12.590682</td>\n",
       "      <td>135.396805</td>\n",
       "      <td>327.840000</td>\n",
       "      <td>2.143020</td>\n",
       "      <td>1.000000</td>\n",
       "      <td>0.000073</td>\n",
       "      <td>0.002047</td>\n",
       "      <td>0.001097</td>\n",
       "      <td>24449.007150</td>\n",
       "      <td>188.233333</td>\n",
       "    </tr>\n",
       "  </tbody>\n",
       "</table>\n",
       "</div>"
      ],
      "text/plain": [
       "                LAT           LON  Precipitation           LST           AAI  \\\n",
       "count  86584.000000  86584.000000   86584.000000  46798.000000  73709.000000   \n",
       "mean      45.421456     10.014272       2.585528    299.268841     -1.274999   \n",
       "std        0.225409      1.056637       7.617394     10.927167      0.693003   \n",
       "min       44.924694      8.736497       0.000000    253.200000     -5.196266   \n",
       "25%       45.249544      9.195325       0.000000    290.920000     -1.749425   \n",
       "50%       45.478996      9.611738       0.000000    300.760000     -1.349746   \n",
       "75%       45.601232     10.683357       0.000000    307.940000     -0.878857   \n",
       "max       45.889734     12.590682     135.396805    327.840000      2.143020   \n",
       "\n",
       "       CloudFraction     NO2_strat     NO2_total      NO2_trop  \\\n",
       "count   73709.000000  73709.000000  73709.000000  51111.000000   \n",
       "mean        0.200606      0.000045      0.000156      0.000105   \n",
       "std         0.259607      0.000012      0.000103      0.000092   \n",
       "min         0.000000      0.000013     -0.000012     -0.000025   \n",
       "25%         0.023900      0.000034      0.000100      0.000047   \n",
       "50%         0.078478      0.000047      0.000122      0.000071   \n",
       "75%         0.278451      0.000056      0.000173      0.000129   \n",
       "max         1.000000      0.000073      0.002047      0.001097   \n",
       "\n",
       "       TropopausePressure        GT_NO2  \n",
       "count        73709.000000  82051.000000  \n",
       "mean         16655.112392     24.535051  \n",
       "std           3000.748790     17.108838  \n",
       "min           8614.349685      0.000000  \n",
       "25%          14432.114060     11.875000  \n",
       "50%          16711.190570     20.000000  \n",
       "75%          19252.648570     33.050000  \n",
       "max          24449.007150    188.233333  "
      ]
     },
     "execution_count": 547,
     "metadata": {},
     "output_type": "execute_result"
    }
   ],
   "source": [
    "train.describe()"
   ]
  },
  {
   "cell_type": "markdown",
   "metadata": {},
   "source": [
    "# Feature Engineering"
   ]
  },
  {
   "cell_type": "code",
   "execution_count": 548,
   "metadata": {},
   "outputs": [],
   "source": [
    "num_feats = train.select_dtypes(include=['float'])\n",
    "kmeans = KMeans(n_clusters=2)"
   ]
  },
  {
   "cell_type": "code",
   "execution_count": 549,
   "metadata": {},
   "outputs": [
    {
     "name": "stderr",
     "output_type": "stream",
     "text": [
      "/var/folders/4c/h16036bx2ync7wqkqvrl2p1h0000gn/T/ipykernel_30180/3216501473.py:5: UserWarning: Could not infer format, so each element will be parsed individually, falling back to `dateutil`. To ensure parsing is consistent and as-expected, please specify a format.\n",
      "  df['Date'] = pd.to_datetime(df['Date'])\n",
      "/var/folders/4c/h16036bx2ync7wqkqvrl2p1h0000gn/T/ipykernel_30180/3216501473.py:5: UserWarning: Could not infer format, so each element will be parsed individually, falling back to `dateutil`. To ensure parsing is consistent and as-expected, please specify a format.\n",
      "  df['Date'] = pd.to_datetime(df['Date'])\n"
     ]
    },
    {
     "data": {
      "text/plain": [
       "'def MeanSd(feature1, feature2):\\n    for dataset in (train,test):\\n        dataset[\"SD\" + feature1] = dataset[[feature1,feature2]].std(axis=1)\\n        dataset[\"MEAN\" + feature1] = dataset[[feature1,feature2]].mean(axis=1)\\n\\nMeanSd(\\'NO2_trop\\',\\'NO2_total\\')\\nMeanSd(\\'LON\\',\\'LAT\\')'"
      ]
     },
     "execution_count": 549,
     "metadata": {},
     "output_type": "execute_result"
    }
   ],
   "source": [
    "\"\"\"train = train.sort_values('Date').reset_index(drop=True) \n",
    "test = test.sort_values('Date').reset_index(drop=True)\n",
    "\"\"\"\n",
    "for df in (train,test):\n",
    "    df['Date'] = pd.to_datetime(df['Date'])\n",
    "    #df['Day'] =  df['Date'].dt.day\n",
    "    df['Month'] = df['Date'].dt.month\n",
    "    #df['target_month'] = df['Month'].map(df[['Month','GT_NO2']].groupby('Month')['GT_NO2'].mean())\n",
    "    #df['Month'] = df['Date'].dt.is_month_start\n",
    "    #df['Year'] =  df['Date'].dt.year\n",
    "    #df.set_index(df['Date'],inplace=True)\n",
    "    #df['DayOfWeek'] =  df['Date'].dt.dayofweek\n",
    "    df.drop(columns=['ID_Zindi','Date'],inplace=True)\n",
    "    \n",
    "#Lags\n",
    "#for df in(train,test): \n",
    "    #df['Precipitation_inter1'] = df['TropopausePressure'] + df['Precipitation']\n",
    "    #df['Precipitation_log'] =  np.log(df['Precipitation'] + 1e-9)\n",
    "    #df['cluster'] = kmeans.fit_transform(df[['LAT', 'LON']])\n",
    "    #df['cloud_fraction1'] = df['CloudFraction'] % df['NO2_strat']\n",
    "    #df['cloud_fraction1'] = df['CloudFraction'] % df['NO2_total']\n",
    "\n",
    "#for df in(train,test): \n",
    "    #Rolling (Moving Average)\n",
    "    #df['feature_rolling_3_mean'] = df['TropopausePressure'].rolling(5).mean()\n",
    "    #df['feature_rolling_7_mean'] = df['TropopausePressure'].rolling(7).mean()\n",
    "    #df['feature_rolling_7_std'] = df['TropopausePressure'].rolling(7).std()\n",
    "    #df['NO2_strat_rolling7'] = df['NO2_strat'].rolling(7).mean()\n",
    "    #df['NO2_strat_rolling30'] = df['NO2_strat'].rolling(30).mean()\n",
    "    #df['NO2_strat_rolling2'] = df['NO2_strat'].rolling(9).mean()\n",
    "#statsitics of similar variables\n",
    "\n",
    "\"\"\"def MeanSd(feature1, feature2):\n",
    "    for dataset in (train,test):\n",
    "        dataset[\"SD\" + feature1] = dataset[[feature1,feature2]].std(axis=1)\n",
    "        dataset[\"MEAN\" + feature1] = dataset[[feature1,feature2]].mean(axis=1)\n",
    "\n",
    "MeanSd('NO2_trop','NO2_total')\n",
    "MeanSd('LON','LAT')\"\"\""
   ]
  },
  {
   "cell_type": "code",
   "execution_count": 550,
   "metadata": {},
   "outputs": [],
   "source": [
    "def rolling(feature):\n",
    "    for dataset in (train,test):\n",
    "        #dataset[f\"{feature}_rolling_mean_60\"] = dataset[feature].rolling(60).mean()\n",
    "        dataset[f\"{feature}_rolling_max_60\"] = dataset[feature].rolling(60).max()\n",
    "        dataset[f\"{feature}_rolling_min_60\"] = dataset[feature].rolling(60).min()\n",
    "\n",
    "rolling('NO2_trop')\n",
    "rolling('NO2_total')\n",
    "rolling('TropopausePressure')\n",
    "rolling('CloudFraction')\n",
    "rolling('Precipitation')"
   ]
  },
  {
   "cell_type": "markdown",
   "metadata": {},
   "source": [
    "# Missing Values & Encoding"
   ]
  },
  {
   "cell_type": "code",
   "execution_count": 551,
   "metadata": {},
   "outputs": [],
   "source": [
    "groups = train['ID']\n",
    "for df in(train,test):\n",
    "    df.drop(columns=['ID'], axis=1,inplace=True)"
   ]
  },
  {
   "cell_type": "code",
   "execution_count": 552,
   "metadata": {},
   "outputs": [],
   "source": [
    "le = LabelEncoder()\n",
    "for df in(train,test): \n",
    "    for col in df.columns: \n",
    "        if df[col].dtype == 'object': \n",
    "            df[col] = le.fit_transform(df[col])"
   ]
  },
  {
   "cell_type": "code",
   "execution_count": 553,
   "metadata": {},
   "outputs": [
    {
     "data": {
      "text/plain": [
       "\"from sklearn.impute import KNNImputer\\n\\ncombined = pd.concat([train, test], keys=['train', 'test'])\\nimputer = KNNImputer(n_neighbors=2)\\nimputed_data = imputer.fit_transform(combined)\\nimputed_df = pd.DataFrame(imputed_data, columns=combined.columns, index=combined.index)\\n\\ntrain = imputed_df.loc['train'].reset_index(drop=True)\\ntrain = imputed_df.loc['test'].reset_index(drop=True)\""
      ]
     },
     "execution_count": 553,
     "metadata": {},
     "output_type": "execute_result"
    }
   ],
   "source": [
    "\"\"\"from sklearn.impute import KNNImputer\n",
    "\n",
    "combined = pd.concat([train, test], keys=['train', 'test'])\n",
    "imputer = KNNImputer(n_neighbors=2)\n",
    "imputed_data = imputer.fit_transform(combined)\n",
    "imputed_df = pd.DataFrame(imputed_data, columns=combined.columns, index=combined.index)\n",
    "\n",
    "train = imputed_df.loc['train'].reset_index(drop=True)\n",
    "train = imputed_df.loc['test'].reset_index(drop=True)\"\"\""
   ]
  },
  {
   "cell_type": "code",
   "execution_count": 554,
   "metadata": {},
   "outputs": [
    {
     "data": {
      "text/plain": [
       "\"from sklearn.experimental import enable_iterative_imputer\\nfrom sklearn.impute import IterativeImputer\\n\\ncombined = pd.concat([train, test], keys=['train', 'test'])\\nimputer = IterativeImputer(max_iter=10, random_state=0)\\nimputed_data = imputer.fit_transform(combined)\\n\\nimputed_df = pd.DataFrame(imputed_data, columns=combined.columns, index=combined.index)\\n\\ntrain = imputed_df.loc['train'].reset_index(drop=True)\\ntest = imputed_df.loc['test'].reset_index(drop=True)\""
      ]
     },
     "execution_count": 554,
     "metadata": {},
     "output_type": "execute_result"
    }
   ],
   "source": [
    "\"\"\"from sklearn.experimental import enable_iterative_imputer\n",
    "from sklearn.impute import IterativeImputer\n",
    "\n",
    "combined = pd.concat([train, test], keys=['train', 'test'])\n",
    "imputer = IterativeImputer(max_iter=10, random_state=0)\n",
    "imputed_data = imputer.fit_transform(combined)\n",
    "\n",
    "imputed_df = pd.DataFrame(imputed_data, columns=combined.columns, index=combined.index)\n",
    "\n",
    "train = imputed_df.loc['train'].reset_index(drop=True)\n",
    "test = imputed_df.loc['test'].reset_index(drop=True)\"\"\""
   ]
  },
  {
   "cell_type": "code",
   "execution_count": 555,
   "metadata": {},
   "outputs": [],
   "source": [
    "#train = train.ffill()"
   ]
  },
  {
   "cell_type": "markdown",
   "metadata": {},
   "source": []
  },
  {
   "cell_type": "markdown",
   "metadata": {},
   "source": [
    "# CV and Modeling"
   ]
  },
  {
   "cell_type": "code",
   "execution_count": 556,
   "metadata": {},
   "outputs": [],
   "source": [
    "#groups = train['ID']\n",
    "model =  LGBMRegressor(random_state=7)\n",
    "n_splits = 5\n",
    "n = train['GT_NO2'].count()\n",
    "num_bins = int(1 + np.log2(n))\n",
    "#train['GT_NO2_bins'] = pd.cut(train['GT_NO2'], bins=num_bins, labels=False)\n",
    "#test['GT_NO2_bins'] = pd.cut(test['GT_NO2'], bins=num_bins, labels=False)"
   ]
  },
  {
   "cell_type": "code",
   "execution_count": 557,
   "metadata": {},
   "outputs": [
    {
     "name": "stdout",
     "output_type": "stream",
     "text": [
      "[LightGBM] [Info] Auto-choosing row-wise multi-threading, the overhead of testing was 0.065321 seconds.\n",
      "You can set `force_row_wise=true` to remove the overhead.\n",
      "And if memory is not enough, you can set `force_col_wise=true`.\n",
      "[LightGBM] [Info] Total Bins 4595\n",
      "[LightGBM] [Info] Number of data points in the train set: 64664, number of used features: 21\n",
      "[LightGBM] [Info] Start training from score 24.434701\n",
      "std: 14.844616530580991\n",
      "score: 9.106555704731177\n",
      "[LightGBM] [Info] Auto-choosing row-wise multi-threading, the overhead of testing was 0.003171 seconds.\n",
      "You can set `force_row_wise=true` to remove the overhead.\n",
      "And if memory is not enough, you can set `force_col_wise=true`.\n",
      "[LightGBM] [Info] Total Bins 4596\n",
      "[LightGBM] [Info] Number of data points in the train set: 64664, number of used features: 21\n",
      "[LightGBM] [Info] Start training from score 22.752866\n"
     ]
    },
    {
     "name": "stderr",
     "output_type": "stream",
     "text": [
      "/Users/ahmed/Downloads/computerscience/Kaggle/geoai-ground-level-no2-estimation/geoai-ground/venv-geoai-ground-level-no2-estimation/lib/python3.12/site-packages/sklearn/metrics/_regression.py:492: FutureWarning: 'squared' is deprecated in version 1.4 and will be removed in 1.6. To calculate the root mean squared error, use the function'root_mean_squared_error'.\n",
      "  warnings.warn(\n"
     ]
    },
    {
     "name": "stdout",
     "output_type": "stream",
     "text": [
      "std: 19.09580192108185\n",
      "score: 11.96696536664346\n",
      "[LightGBM] [Info] Auto-choosing row-wise multi-threading, the overhead of testing was 0.002717 seconds.\n",
      "You can set `force_row_wise=true` to remove the overhead.\n",
      "And if memory is not enough, you can set `force_col_wise=true`.\n",
      "[LightGBM] [Info] Total Bins 4596\n",
      "[LightGBM] [Info] Number of data points in the train set: 64664, number of used features: 21\n",
      "[LightGBM] [Info] Start training from score 22.615852\n"
     ]
    },
    {
     "name": "stderr",
     "output_type": "stream",
     "text": [
      "/Users/ahmed/Downloads/computerscience/Kaggle/geoai-ground-level-no2-estimation/geoai-ground/venv-geoai-ground-level-no2-estimation/lib/python3.12/site-packages/sklearn/metrics/_regression.py:492: FutureWarning: 'squared' is deprecated in version 1.4 and will be removed in 1.6. To calculate the root mean squared error, use the function'root_mean_squared_error'.\n",
      "  warnings.warn(\n"
     ]
    },
    {
     "name": "stdout",
     "output_type": "stream",
     "text": [
      "std: 18.147840185499298\n",
      "score: 13.600601298206291\n",
      "[LightGBM] [Info] Auto-choosing row-wise multi-threading, the overhead of testing was 0.002482 seconds.\n",
      "You can set `force_row_wise=true` to remove the overhead.\n",
      "And if memory is not enough, you can set `force_col_wise=true`.\n",
      "[LightGBM] [Info] Total Bins 4599\n",
      "[LightGBM] [Info] Number of data points in the train set: 65760, number of used features: 21\n",
      "[LightGBM] [Info] Start training from score 23.199636\n"
     ]
    },
    {
     "name": "stderr",
     "output_type": "stream",
     "text": [
      "/Users/ahmed/Downloads/computerscience/Kaggle/geoai-ground-level-no2-estimation/geoai-ground/venv-geoai-ground-level-no2-estimation/lib/python3.12/site-packages/sklearn/metrics/_regression.py:492: FutureWarning: 'squared' is deprecated in version 1.4 and will be removed in 1.6. To calculate the root mean squared error, use the function'root_mean_squared_error'.\n",
      "  warnings.warn(\n"
     ]
    },
    {
     "name": "stdout",
     "output_type": "stream",
     "text": [
      "std: 15.385929166349635\n",
      "score: 12.049329363088798\n",
      "RMSE: 11.680862933167433\n",
      "RMSE std: 1.622503868177294\n",
      "Standard Deviations: [np.float64(14.844616530580993), np.float64(19.09580192108185), np.float64(18.147840185499298), np.float64(15.385929166349635)]\n"
     ]
    },
    {
     "name": "stderr",
     "output_type": "stream",
     "text": [
      "/Users/ahmed/Downloads/computerscience/Kaggle/geoai-ground-level-no2-estimation/geoai-ground/venv-geoai-ground-level-no2-estimation/lib/python3.12/site-packages/sklearn/metrics/_regression.py:492: FutureWarning: 'squared' is deprecated in version 1.4 and will be removed in 1.6. To calculate the root mean squared error, use the function'root_mean_squared_error'.\n",
      "  warnings.warn(\n"
     ]
    }
   ],
   "source": [
    "model = LGBMRegressor(random_state=7)\n",
    "n_splits = 4\n",
    "cv = GroupKFold(n_splits=n_splits)\n",
    "\n",
    "def validate(trainset, testset, target_col):\n",
    "\n",
    "    model.fit(trainset.drop(columns=target_col), trainset[target_col])\n",
    "    pred = model.predict(testset.drop(columns=target_col))\n",
    "    valid_idx = testset[target_col].notna()\n",
    "    valid_testset = testset[target_col][valid_idx]\n",
    "    valid_pred = pred[valid_idx]\n",
    "    print('std:', valid_testset.std())\n",
    "    score = mean_squared_error(valid_testset, valid_pred, squared=False)\n",
    "    print('score:', score)\n",
    "    \n",
    "    return score\n",
    "stds = []\n",
    "rmse = []\n",
    "\n",
    "for train_idx, test_idx in cv.split(train.drop(columns='GT_NO2'), train['GT_NO2'], groups=groups):\n",
    "    train_v, test_v = train.iloc[train_idx], train.iloc[test_idx]\n",
    "    stds.append(test_v['GT_NO2'].std())\n",
    "    rmse.append(validate(train_v, test_v, 'GT_NO2'))\n",
    "\n",
    "print('RMSE:', np.array(rmse).mean())\n",
    "print('RMSE std:', np.array(rmse).std())\n",
    "print('Standard Deviations:', stds)\n"
   ]
  },
  {
   "cell_type": "code",
   "execution_count": 558,
   "metadata": {},
   "outputs": [],
   "source": [
    "#12.246931687286574\n",
    "#12.235259341356834\n",
    "#12.231869616518921\n",
    "#12.126333476852636"
   ]
  },
  {
   "cell_type": "code",
   "execution_count": 559,
   "metadata": {},
   "outputs": [
    {
     "ename": "NameError",
     "evalue": "name 'hshsd' is not defined",
     "output_type": "error",
     "traceback": [
      "\u001b[0;31m---------------------------------------------------------------------------\u001b[0m",
      "\u001b[0;31mNameError\u001b[0m                                 Traceback (most recent call last)",
      "Cell \u001b[0;32mIn[559], line 1\u001b[0m\n\u001b[0;32m----> 1\u001b[0m \u001b[43mhshsd\u001b[49m\n",
      "\u001b[0;31mNameError\u001b[0m: name 'hshsd' is not defined"
     ]
    }
   ],
   "source": [
    "hshsd"
   ]
  },
  {
   "cell_type": "code",
   "execution_count": 560,
   "metadata": {},
   "outputs": [
    {
     "name": "stdout",
     "output_type": "stream",
     "text": [
      "[LightGBM] [Info] Auto-choosing row-wise multi-threading, the overhead of testing was 0.003433 seconds.\n",
      "You can set `force_row_wise=true` to remove the overhead.\n",
      "And if memory is not enough, you can set `force_col_wise=true`.\n",
      "[LightGBM] [Info] Total Bins 4651\n",
      "[LightGBM] [Info] Number of data points in the train set: 86584, number of used features: 21\n",
      "[LightGBM] [Info] Start training from score 23.250548\n"
     ]
    }
   ],
   "source": [
    "model.fit(train.drop(columns='GT_NO2'),train['GT_NO2'])\n",
    "y = model.predict(test)\n",
    "smaple = pd.read_csv('/Users/ahmed/Downloads/computerscience/Kaggle/geoai-ground-level-no2-estimation/geoai-ground/data/SampleSubmission.csv')\n",
    "#smaple['GT_NO2'] = post_process(test,y)\n",
    "#smaple.to_csv('submissionpost.csv',index=False)"
   ]
  },
  {
   "cell_type": "code",
   "execution_count": null,
   "metadata": {},
   "outputs": [
    {
     "data": {
      "text/plain": [
       "\"model.fit(train.drop(columns='GT_NO2'),train['GT_NO2'])\\ny_pred = model.predict(test)\\nsub_df = pd.DataFrame({'id': test_id,'GT_NO2':y_pred})\\nsub_df.to_csv('/Users/ahmed/Downloads/computerscience/Kaggle/geoai-ground-level-no2-estimation/geoai-ground/submissions/submission12231869616518921.csv', index=False)\""
      ]
     },
     "execution_count": 370,
     "metadata": {},
     "output_type": "execute_result"
    }
   ],
   "source": [
    "model.fit(train.drop(columns='GT_NO2'),train['GT_NO2'])\n",
    "y_pred = model.predict(test)\n",
    "sub_df = pd.DataFrame({'id': test_id,'GT_NO2':y_pred})\n",
    "sub_df.to_csv('/Users/ahmed/Downloads/computerscience/Kaggle/geoai-ground-level-no2-estimation/geoai-ground/submissions/submission11680862933167433.csv', index=False)"
   ]
  },
  {
   "cell_type": "code",
   "execution_count": 561,
   "metadata": {},
   "outputs": [
    {
     "data": {
      "image/png": "[encoded data removed]",
      "text/plain": [
       "<Figure size 1000x600 with 1 Axes>"
      ]
     },
     "metadata": {},
     "output_type": "display_data"
    }
   ],
   "source": [
    "importances = model.feature_importances_\n",
    "names = model.feature_name_\n",
    "fi = pd.DataFrame({'Feature': names,\n",
    "                   'importances': importances})\n",
    "fi = fi.sort_values(by='importances', ascending=False)\n",
    "\n",
    "fi.plot(kind='bar', x='Feature', y='importances', legend=False, figsize=(10, 6))\n",
    "plt.title('Feature Importances')\n",
    "plt.xlabel('Features')\n",
    "plt.ylabel('Importance')\n",
    "plt.show()"
   ]
  },
  {
   "cell_type": "code",
   "execution_count": null,
   "metadata": {},
   "outputs": [
    {
     "data": {
      "text/plain": [
       "['LAT',\n",
       " 'LON',\n",
       " 'Precipitation',\n",
       " 'LST',\n",
       " 'AAI',\n",
       " 'CloudFraction',\n",
       " 'NO2_strat',\n",
       " 'NO2_total',\n",
       " 'NO2_trop',\n",
       " 'TropopausePressure',\n",
       " 'Sensor2_PM2.5_Rolling_3',\n",
       " 'Sensor2_PM2.5_Rolling_5',\n",
       " 'NO2_trop_rolling_mean_60',\n",
       " 'NO2_trop_rolling_max_60',\n",
       " 'NO2_trop_rolling_min_60',\n",
       " 'NO2_trop_rolling_mean_30',\n",
       " 'NO2_trop_rolling_max_30',\n",
       " 'NO2_trop_rolling_min_30',\n",
       " 'NO2_trop_rolling_mean_10',\n",
       " 'NO2_trop_rolling_max_10',\n",
       " 'NO2_trop_rolling_min_10',\n",
       " 'NO2_total_rolling_mean_60',\n",
       " 'NO2_total_rolling_max_60',\n",
       " 'NO2_total_rolling_min_60',\n",
       " 'NO2_total_rolling_mean_30',\n",
       " 'NO2_total_rolling_max_30',\n",
       " 'NO2_total_rolling_min_30',\n",
       " 'NO2_total_rolling_mean_10',\n",
       " 'NO2_total_rolling_max_10',\n",
       " 'NO2_total_rolling_min_10']"
      ]
     },
     "execution_count": 511,
     "metadata": {},
     "output_type": "execute_result"
    }
   ],
   "source": [
    "names"
   ]
  },
  {
   "cell_type": "code",
   "execution_count": null,
   "metadata": {},
   "outputs": [],
   "source": []
  }
 ],
 "metadata": {
  "kernelspec": {
   "display_name": "venv-geoai-ground-level-no2-estimation",
   "language": "python",
   "name": "python3"
  },
  "language_info": {
   "codemirror_mode": {
    "name": "ipython",
    "version": 3
   },
   "file_extension": ".py",
   "mimetype": "text/x-python",
   "name": "python",
   "nbconvert_exporter": "python",
   "pygments_lexer": "ipython3",
   "version": "3.12.4"
  }
 },
 "nbformat": 4,
 "nbformat_minor": 2
}
