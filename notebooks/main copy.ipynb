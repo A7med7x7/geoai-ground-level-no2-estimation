{
 "cells": [
  {
   "cell_type": "markdown",
   "metadata": {},
   "source": [
    "# Importings"
   ]
  },
  {
   "cell_type": "code",
   "execution_count": 1,
   "metadata": {},
   "outputs": [],
   "source": [
    "import pandas as pd                                    # for data\n",
    "import numpy as np                                     # for math\n",
    "from lightgbm import LGBMRegressor                     # Validation model\n",
    "from sklearn.metrics import mean_squared_error         # Regressortion metric\n",
    "from sklearn.model_selection import GroupKFold,KFold, TimeSeriesSplit   # for validation\n",
    "from sklearn.preprocessing import LabelEncoder         # for encoding\n",
    "import sklearn.manifold._t_sne as tsne                 # for t_sne\n",
    "import seaborn as sns                     \n",
    "from sklearn.model_selection import TimeSeriesSplit# for plotting\n",
    "import matplotlib.pyplot as plt    \n",
    "from statsmodels.graphics.tsaplots import plot_acf\n",
    "from matplotlib import rcParams\n",
    "from statsmodels.tsa.seasonal import seasonal_decompose\n",
    "from scipy.stats import rankdata\n",
    "import xgboost as xgb \n",
    "from sklearn.cluster import KMeans\n",
    "train = pd.read_csv('/Users/ahmed/Downloads/computerscience/Kaggle/geoai-ground-level-no2-estimation/geoai-ground/data/Train.csv') \n",
    "test = pd.read_csv('/Users/ahmed/Downloads/computerscience/Kaggle/geoai-ground-level-no2-estimation/geoai-ground/data/Test.csv')\n",
    "groups = train['ID']\n",
    "test_id = test['ID_Zindi']\n",
    "pd.options.display.max_columns = 200\n"
   ]
  },
  {
   "cell_type": "code",
   "execution_count": 2,
   "metadata": {},
   "outputs": [
    {
     "data": {
      "text/plain": [
       "\"max_lon = 9.216568750635945\\nmax_lat = 45.51461188207373\\n\\ndef haversine(lon1, lat1, lon2, lat2):\\n    lon1, lat1, lon2, lat2 = map(np.radians, [lon1, lat1, lon2, lat2])\\n    dlon = lon2 - lon1\\n    dlat = lat2 - lat1\\n    a = np.sin(dlat/2)**2 + np.cos(lat1) * np.cos(lat2) * np.sin(dlon/2)**2\\n    c = 2 * np.arcsin(np.sqrt(a))\\n\\n    r = 6371\\n    return c * r\\nfor df in (train,test): \\n    df['distance'] = df.apply(lambda row: haversine(row['LON'], row['LAT'], max_lon, max_lat), axis=1)\\n\""
      ]
     },
     "execution_count": 2,
     "metadata": {},
     "output_type": "execute_result"
    }
   ],
   "source": [
    "\"\"\"max_lon = 9.216568750635945\n",
    "max_lat = 45.51461188207373\n",
    "\n",
    "def haversine(lon1, lat1, lon2, lat2):\n",
    "    lon1, lat1, lon2, lat2 = map(np.radians, [lon1, lat1, lon2, lat2])\n",
    "    dlon = lon2 - lon1\n",
    "    dlat = lat2 - lat1\n",
    "    a = np.sin(dlat/2)**2 + np.cos(lat1) * np.cos(lat2) * np.sin(dlon/2)**2\n",
    "    c = 2 * np.arcsin(np.sqrt(a))\n",
    "\n",
    "    r = 6371\n",
    "    return c * r\n",
    "for df in (train,test): \n",
    "    df['distance'] = df.apply(lambda row: haversine(row['LON'], row['LAT'], max_lon, max_lat), axis=1)\n",
    "\"\"\""
   ]
  },
  {
   "cell_type": "code",
   "execution_count": 3,
   "metadata": {},
   "outputs": [],
   "source": [
    "def post_process(test_data,y,feature_to_mean='Month') -> int:\n",
    "    test_data['target'] = y\n",
    "    test_data['target_month'] = test_data[feature_to_mean].map(test_data[[feature_to_mean,'target']].groupby(feature_to_mean)['target'].mean())\n",
    "    test_data.drop(columns='target',inplace=True)\n",
    "    return test_data['target_month']"
   ]
  },
  {
   "cell_type": "code",
   "execution_count": 4,
   "metadata": {},
   "outputs": [
    {
     "data": {
      "text/plain": [
       "\"columns_to_aggregate = train.columns\\nagg_funcs = ['mean', 'std', 'min', 'max'] \\n\\ndef add_aggregated_features(dataset, columns, funcs):\\n    dataset = dataset.copy()\\n    for column in columns:\\n        agg_features_id = dataset.groupby('ID')[column].agg(funcs)\\n        agg_features_id.columns = [f'{column}_{agg_func}_agg_ID' for agg_func in funcs]\\n        dataset = dataset.merge(agg_features_id, on='ID')\\n    return dataset\\n\\n# Apply the function to both train and test datasets\\ntrain = add_aggregated_features(train, columns_to_aggregate, agg_funcs)\\ntest = add_aggregated_features(test, columns_to_aggregate, agg_funcs)\""
      ]
     },
     "execution_count": 4,
     "metadata": {},
     "output_type": "execute_result"
    }
   ],
   "source": [
    "'''columns_to_aggregate = train.columns\n",
    "agg_funcs = ['mean', 'std', 'min', 'max'] \n",
    "\n",
    "def add_aggregated_features(dataset, columns, funcs):\n",
    "    dataset = dataset.copy()\n",
    "    for column in columns:\n",
    "        agg_features_id = dataset.groupby('ID')[column].agg(funcs)\n",
    "        agg_features_id.columns = [f'{column}_{agg_func}_agg_ID' for agg_func in funcs]\n",
    "        dataset = dataset.merge(agg_features_id, on='ID')\n",
    "    return dataset\n",
    "\n",
    "# Apply the function to both train and test datasets\n",
    "train = add_aggregated_features(train, columns_to_aggregate, agg_funcs)\n",
    "test = add_aggregated_features(test, columns_to_aggregate, agg_funcs)'''"
   ]
  },
  {
   "cell_type": "code",
   "execution_count": 5,
   "metadata": {},
   "outputs": [
    {
     "name": "stdout",
     "output_type": "stream",
     "text": [
      "ID_Zindi\n",
      "False\n",
      "___________________\n",
      "Date\n",
      "False\n",
      "___________________\n",
      "ID\n",
      "False\n",
      "___________________\n",
      "LAT\n",
      "False\n",
      "___________________\n",
      "LON\n",
      "False\n",
      "___________________\n",
      "Precipitation\n",
      "False\n",
      "___________________\n",
      "LST\n",
      "False\n",
      "___________________\n",
      "AAI\n",
      "False\n",
      "___________________\n",
      "CloudFraction\n",
      "False\n",
      "___________________\n",
      "NO2_strat\n",
      "False\n",
      "___________________\n",
      "NO2_total\n",
      "False\n",
      "___________________\n",
      "NO2_trop\n",
      "False\n",
      "___________________\n",
      "TropopausePressure\n",
      "False\n",
      "___________________\n",
      "GT_NO2\n",
      "False\n",
      "___________________\n"
     ]
    }
   ],
   "source": [
    "for col in train.columns:\n",
    "    print(col)    \n",
    "    print(train[col].is_unique)\n",
    "    print(\"___________________\")"
   ]
  },
  {
   "cell_type": "code",
   "execution_count": 6,
   "metadata": {},
   "outputs": [
    {
     "data": {
      "text/html": [
       "<div>\n",
       "<style scoped>\n",
       "    .dataframe tbody tr th:only-of-type {\n",
       "        vertical-align: middle;\n",
       "    }\n",
       "\n",
       "    .dataframe tbody tr th {\n",
       "        vertical-align: top;\n",
       "    }\n",
       "\n",
       "    .dataframe thead th {\n",
       "        text-align: right;\n",
       "    }\n",
       "</style>\n",
       "<table border=\"1\" class=\"dataframe\">\n",
       "  <thead>\n",
       "    <tr style=\"text-align: right;\">\n",
       "      <th></th>\n",
       "      <th>LAT</th>\n",
       "      <th>LON</th>\n",
       "      <th>Precipitation</th>\n",
       "      <th>LST</th>\n",
       "      <th>AAI</th>\n",
       "      <th>CloudFraction</th>\n",
       "      <th>NO2_strat</th>\n",
       "      <th>NO2_total</th>\n",
       "      <th>NO2_trop</th>\n",
       "      <th>TropopausePressure</th>\n",
       "      <th>GT_NO2</th>\n",
       "    </tr>\n",
       "  </thead>\n",
       "  <tbody>\n",
       "    <tr>\n",
       "      <th>count</th>\n",
       "      <td>86584.000000</td>\n",
       "      <td>86584.000000</td>\n",
       "      <td>86584.000000</td>\n",
       "      <td>46798.000000</td>\n",
       "      <td>73709.000000</td>\n",
       "      <td>73709.000000</td>\n",
       "      <td>73709.000000</td>\n",
       "      <td>73709.000000</td>\n",
       "      <td>51111.000000</td>\n",
       "      <td>73709.000000</td>\n",
       "      <td>82051.000000</td>\n",
       "    </tr>\n",
       "    <tr>\n",
       "      <th>mean</th>\n",
       "      <td>45.421456</td>\n",
       "      <td>10.014272</td>\n",
       "      <td>2.585528</td>\n",
       "      <td>299.268841</td>\n",
       "      <td>-1.274999</td>\n",
       "      <td>0.200606</td>\n",
       "      <td>0.000045</td>\n",
       "      <td>0.000156</td>\n",
       "      <td>0.000105</td>\n",
       "      <td>16655.112392</td>\n",
       "      <td>24.535051</td>\n",
       "    </tr>\n",
       "    <tr>\n",
       "      <th>std</th>\n",
       "      <td>0.225409</td>\n",
       "      <td>1.056637</td>\n",
       "      <td>7.617394</td>\n",
       "      <td>10.927167</td>\n",
       "      <td>0.693003</td>\n",
       "      <td>0.259607</td>\n",
       "      <td>0.000012</td>\n",
       "      <td>0.000103</td>\n",
       "      <td>0.000092</td>\n",
       "      <td>3000.748790</td>\n",
       "      <td>17.108838</td>\n",
       "    </tr>\n",
       "    <tr>\n",
       "      <th>min</th>\n",
       "      <td>44.924694</td>\n",
       "      <td>8.736497</td>\n",
       "      <td>0.000000</td>\n",
       "      <td>253.200000</td>\n",
       "      <td>-5.196266</td>\n",
       "      <td>0.000000</td>\n",
       "      <td>0.000013</td>\n",
       "      <td>-0.000012</td>\n",
       "      <td>-0.000025</td>\n",
       "      <td>8614.349685</td>\n",
       "      <td>0.000000</td>\n",
       "    </tr>\n",
       "    <tr>\n",
       "      <th>25%</th>\n",
       "      <td>45.249544</td>\n",
       "      <td>9.195325</td>\n",
       "      <td>0.000000</td>\n",
       "      <td>290.920000</td>\n",
       "      <td>-1.749425</td>\n",
       "      <td>0.023900</td>\n",
       "      <td>0.000034</td>\n",
       "      <td>0.000100</td>\n",
       "      <td>0.000047</td>\n",
       "      <td>14432.114060</td>\n",
       "      <td>11.875000</td>\n",
       "    </tr>\n",
       "    <tr>\n",
       "      <th>50%</th>\n",
       "      <td>45.478996</td>\n",
       "      <td>9.611738</td>\n",
       "      <td>0.000000</td>\n",
       "      <td>300.760000</td>\n",
       "      <td>-1.349746</td>\n",
       "      <td>0.078478</td>\n",
       "      <td>0.000047</td>\n",
       "      <td>0.000122</td>\n",
       "      <td>0.000071</td>\n",
       "      <td>16711.190570</td>\n",
       "      <td>20.000000</td>\n",
       "    </tr>\n",
       "    <tr>\n",
       "      <th>75%</th>\n",
       "      <td>45.601232</td>\n",
       "      <td>10.683357</td>\n",
       "      <td>0.000000</td>\n",
       "      <td>307.940000</td>\n",
       "      <td>-0.878857</td>\n",
       "      <td>0.278451</td>\n",
       "      <td>0.000056</td>\n",
       "      <td>0.000173</td>\n",
       "      <td>0.000129</td>\n",
       "      <td>19252.648570</td>\n",
       "      <td>33.050000</td>\n",
       "    </tr>\n",
       "    <tr>\n",
       "      <th>max</th>\n",
       "      <td>45.889734</td>\n",
       "      <td>12.590682</td>\n",
       "      <td>135.396805</td>\n",
       "      <td>327.840000</td>\n",
       "      <td>2.143020</td>\n",
       "      <td>1.000000</td>\n",
       "      <td>0.000073</td>\n",
       "      <td>0.002047</td>\n",
       "      <td>0.001097</td>\n",
       "      <td>24449.007150</td>\n",
       "      <td>188.233333</td>\n",
       "    </tr>\n",
       "  </tbody>\n",
       "</table>\n",
       "</div>"
      ],
      "text/plain": [
       "                LAT           LON  Precipitation           LST           AAI  \\\n",
       "count  86584.000000  86584.000000   86584.000000  46798.000000  73709.000000   \n",
       "mean      45.421456     10.014272       2.585528    299.268841     -1.274999   \n",
       "std        0.225409      1.056637       7.617394     10.927167      0.693003   \n",
       "min       44.924694      8.736497       0.000000    253.200000     -5.196266   \n",
       "25%       45.249544      9.195325       0.000000    290.920000     -1.749425   \n",
       "50%       45.478996      9.611738       0.000000    300.760000     -1.349746   \n",
       "75%       45.601232     10.683357       0.000000    307.940000     -0.878857   \n",
       "max       45.889734     12.590682     135.396805    327.840000      2.143020   \n",
       "\n",
       "       CloudFraction     NO2_strat     NO2_total      NO2_trop  \\\n",
       "count   73709.000000  73709.000000  73709.000000  51111.000000   \n",
       "mean        0.200606      0.000045      0.000156      0.000105   \n",
       "std         0.259607      0.000012      0.000103      0.000092   \n",
       "min         0.000000      0.000013     -0.000012     -0.000025   \n",
       "25%         0.023900      0.000034      0.000100      0.000047   \n",
       "50%         0.078478      0.000047      0.000122      0.000071   \n",
       "75%         0.278451      0.000056      0.000173      0.000129   \n",
       "max         1.000000      0.000073      0.002047      0.001097   \n",
       "\n",
       "       TropopausePressure        GT_NO2  \n",
       "count        73709.000000  82051.000000  \n",
       "mean         16655.112392     24.535051  \n",
       "std           3000.748790     17.108838  \n",
       "min           8614.349685      0.000000  \n",
       "25%          14432.114060     11.875000  \n",
       "50%          16711.190570     20.000000  \n",
       "75%          19252.648570     33.050000  \n",
       "max          24449.007150    188.233333  "
      ]
     },
     "execution_count": 6,
     "metadata": {},
     "output_type": "execute_result"
    }
   ],
   "source": [
    "train.describe()"
   ]
  },
  {
   "cell_type": "markdown",
   "metadata": {},
   "source": [
    "# Feature Engineering"
   ]
  },
  {
   "cell_type": "code",
   "execution_count": 7,
   "metadata": {},
   "outputs": [],
   "source": [
    "num_feats = train.select_dtypes(include=['float'])\n",
    "kmeans = KMeans(n_clusters=2)"
   ]
  },
  {
   "cell_type": "code",
   "execution_count": 8,
   "metadata": {},
   "outputs": [
    {
     "name": "stderr",
     "output_type": "stream",
     "text": [
      "/var/folders/4c/h16036bx2ync7wqkqvrl2p1h0000gn/T/ipykernel_36878/1066528727.py:5: UserWarning: Could not infer format, so each element will be parsed individually, falling back to `dateutil`. To ensure parsing is consistent and as-expected, please specify a format.\n",
      "  df['Date'] = pd.to_datetime(df['Date'])\n",
      "/var/folders/4c/h16036bx2ync7wqkqvrl2p1h0000gn/T/ipykernel_36878/1066528727.py:5: UserWarning: Could not infer format, so each element will be parsed individually, falling back to `dateutil`. To ensure parsing is consistent and as-expected, please specify a format.\n",
      "  df['Date'] = pd.to_datetime(df['Date'])\n"
     ]
    },
    {
     "data": {
      "text/plain": [
       "'def MeanSd(feature1, feature2):\\n    for dataset in (train,test):\\n        dataset[\"SD\" + feature1] = dataset[[feature1,feature2]].std(axis=1)\\n        dataset[\"MEAN\" + feature1] = dataset[[feature1,feature2]].mean(axis=1)\\n\\nMeanSd(\\'NO2_trop\\',\\'NO2_total\\')\\nMeanSd(\\'LON\\',\\'LAT\\')'"
      ]
     },
     "execution_count": 8,
     "metadata": {},
     "output_type": "execute_result"
    }
   ],
   "source": [
    "\"\"\"train = train.sort_values('Date').reset_index(drop=True) \n",
    "test = test.sort_values('Date').reset_index(drop=True)\n",
    "\"\"\"\n",
    "for df in (train,test):\n",
    "    df['Date'] = pd.to_datetime(df['Date'])\n",
    "    #df['Day'] =  df['Date'].dt.day\n",
    "    #df['Month'] = df['Date'].dt.month\n",
    "    #df['target_month'] = df['Month'].map(df[['Month','GT_NO2']].groupby('Month')['GT_NO2'].mean())\n",
    "    #df['Month'] = df['Date'].dt.is_month_start\n",
    "    #df['Year'] =  df['Date'].dt.year\n",
    "    #df.set_index(df['Date'],inplace=True)\n",
    "    #df['DayOfWeek'] =  df['Date'].dt.dayofweek\n",
    "    df.drop(columns=['ID_Zindi'],inplace=True)\n",
    "    \n",
    "#Lags\n",
    "#for df in(train,test): \n",
    "    #df['Precipitation_inter1'] = df['TropopausePressure'] + df['Precipitation']\n",
    "    #df['Precipitation_log'] =  np.log(df['Precipitation'] + 1e-9)\n",
    "    #df['CloudFraction_diff'] = df['CloudFraction'] / df['NO2_strat']\n",
    "    #df['CloudFraction_diff2'] = df['CloudFraction'] / df['NO2_total']\n",
    "    #['Precipitation_fractional'] = df['Precipitation'] * 0.00001\n",
    "    #df['TropopausePressure_fractional'] = round(df['TropopausePressure'] * 0.00001,2)\n",
    "    #df['cluster'] = kmeans.fit_transform(df[['LAT', 'LON']])\n",
    "    #df['cloud_fraction1'] = df['CloudFraction'] % df['NO2_strat']\n",
    "    #df['cloud_fraction1'] = df['CloudFraction'] % df['NO2_total']\n",
    "\n",
    "#for df in(train,test): \n",
    "    #Rolling (Moving Average)\n",
    "    #df['feature_rolling_3_mean'] = df['TropopausePressure'].rolling(5).mean()\n",
    "    #df['feature_rolling_7_mean'] = df['TropopausePressure'].rolling(7).mean()\n",
    "    #df['feature_rolling_7_std'] = df['TropopausePressure'].rolling(7).std()\n",
    "    #df['NO2_strat_rolling7'] = df['NO2_strat'].rolling(7).mean()\n",
    "    #df['NO2_strat_rolling30'] = df['NO2_strat'].rolling(30).mean()\n",
    "    #df['NO2_strat_rolling2'] = df['NO2_strat'].rolling(9).mean()\n",
    "#statsitics of similar variables\n",
    "\n",
    "\"\"\"def MeanSd(feature1, feature2):\n",
    "    for dataset in (train,test):\n",
    "        dataset[\"SD\" + feature1] = dataset[[feature1,feature2]].std(axis=1)\n",
    "        dataset[\"MEAN\" + feature1] = dataset[[feature1,feature2]].mean(axis=1)\n",
    "\n",
    "MeanSd('NO2_trop','NO2_total')\n",
    "MeanSd('LON','LAT')\"\"\""
   ]
  },
  {
   "cell_type": "code",
   "execution_count": 9,
   "metadata": {},
   "outputs": [
    {
     "data": {
      "text/plain": [
       "'def rolling(feature):\\n    for dataset in (train,test):\\n        #dataset[f\"{feature}_rolling_mean_60\"] = dataset[feature].rolling(60).mean()\\n        dataset[f\"{feature}_rolling_max_60\"] = dataset[feature].rolling(60).max()\\n        dataset[f\"{feature}_rolling_std_30\"] = dataset[feature].rolling(30).std()\\n        #dataset[f\"{feature}_rolling_max_30\"] = dataset[feature].rolling(30).max()\\n        #dataset[f\"{feature}_rolling_min_60\"] = dataset[feature].rolling(60).min()\\n\\n\\nrolling(\\'NO2_trop\\')\\nrolling(\\'NO2_total\\')\\nrolling(\\'TropopausePressure\\')\\nrolling(\\'CloudFraction\\')\\n#rolling(\\'AAI\\')\\n#rolling(\\'LST\\')\\nrolling(\\'Precipitation\\')'"
      ]
     },
     "execution_count": 9,
     "metadata": {},
     "output_type": "execute_result"
    }
   ],
   "source": [
    "#for df in(train,test): \n",
    "    #df['LST_mean_60'] = df['LST'].rolling(60).mean()\n",
    "    #df['Prec_mean_60'] = df['Precipitation'].rolling(60).mean()\n",
    "    #df['AII_mean'] = df['AAI'].rolling(60).mean()\n",
    "    #df['no2_total'] = df['NO2_total'].rolling(60).min()\n",
    "\n",
    "    #df['feature_rolling_3_mean'] = df['TropopausePressure'].rolling(5).mean()\n",
    "    #df['feature_rolling_7_mean'] = df['TropopausePressure'].rolling(7).mean()\n",
    "    #df['feature_rolling_7_std'] = df['TropopausePressure'].rolling(7).std()\n",
    "    #df['NO2_strat_rolling7'] = df['NO2_strat'].rolling(7).mean()\n",
    "    #df['NO2_strat_rolling30'] = df['NO2_strat'].rolling(30).mean()\n",
    "    #df['NO2_strat_rolling2'] = df['NO2_strat'].rolling(9).mean()\n",
    "\n",
    "\n",
    "\"\"\"def rolling(feature):\n",
    "    for dataset in (train,test):\n",
    "        #dataset[f\"{feature}_rolling_mean_60\"] = dataset[feature].rolling(60).mean()\n",
    "        dataset[f\"{feature}_rolling_max_60\"] = dataset[feature].rolling(60).max()\n",
    "        dataset[f\"{feature}_rolling_std_30\"] = dataset[feature].rolling(30).std()\n",
    "        #dataset[f\"{feature}_rolling_max_30\"] = dataset[feature].rolling(30).max()\n",
    "        #dataset[f\"{feature}_rolling_min_60\"] = dataset[feature].rolling(60).min()\n",
    "\n",
    "\n",
    "rolling('NO2_trop')\n",
    "rolling('NO2_total')\n",
    "rolling('TropopausePressure')\n",
    "rolling('CloudFraction')\n",
    "#rolling('AAI')\n",
    "#rolling('LST')\n",
    "rolling('Precipitation')\"\"\""
   ]
  },
  {
   "cell_type": "code",
   "execution_count": 10,
   "metadata": {},
   "outputs": [
    {
     "data": {
      "text/plain": [
       "\"columns_to_aggregate = [\\n    'LAT', 'LON', 'distance', 'Precipitation_rolling_max_60', 'NO2_strat', \\n    'NO2_total', 'NO2_total_rolling_max_60', 'AAI', 'LST', 'CloudFraction', \\n    'TropopausePressure', 'NO2_trop', 'TropopausePressure_rolling_max_60', \\n    'CloudFraction_rolling_max_60', 'Precipitation', 'NO2_trop_rolling_max_60'\\n]\\nfor df in (train,test):\\n    for col in columns_to_aggregate:\\n        df[f'{col}_monthly_mean'] = df.groupby('Month')[col].transform('mean')\\n        df[f'{col}_monthly_sum'] = df.groupby('Month')[col].transform('sum')\\n        df[f'{col}_monthly_max'] = df.groupby('Month')[col].transform('max')\\n        df[f'{col}_monthly_min'] = df.groupby('Month')[col].transform('min')\\n\\n\\ndf['Date'] = pd.to_datetime(df['Date'])\\ndf = df.set_index('Date')\\nfor df in (train,test):\\n    for col in columns_to_aggregate:\\n        df[f'{col}_rolling_mean_30'] = df[col].rolling(window=30).mean()\\n        df[f'{col}_rolling_sum_30'] = df[col].rolling(window=30).sum()\\n        df[f'{col}_rolling_max_30'] = df[col].rolling(window=30).max()\\n        df[f'{col}_rolling_min_30'] = df[col].rolling(window=30).min()\""
      ]
     },
     "execution_count": 10,
     "metadata": {},
     "output_type": "execute_result"
    }
   ],
   "source": [
    "'''columns_to_aggregate = [\n",
    "    'LAT', 'LON', 'distance', 'Precipitation_rolling_max_60', 'NO2_strat', \n",
    "    'NO2_total', 'NO2_total_rolling_max_60', 'AAI', 'LST', 'CloudFraction', \n",
    "    'TropopausePressure', 'NO2_trop', 'TropopausePressure_rolling_max_60', \n",
    "    'CloudFraction_rolling_max_60', 'Precipitation', 'NO2_trop_rolling_max_60'\n",
    "]\n",
    "for df in (train,test):\n",
    "    for col in columns_to_aggregate:\n",
    "        df[f'{col}_monthly_mean'] = df.groupby('Month')[col].transform('mean')\n",
    "        df[f'{col}_monthly_sum'] = df.groupby('Month')[col].transform('sum')\n",
    "        df[f'{col}_monthly_max'] = df.groupby('Month')[col].transform('max')\n",
    "        df[f'{col}_monthly_min'] = df.groupby('Month')[col].transform('min')\n",
    "\n",
    "\n",
    "df['Date'] = pd.to_datetime(df['Date'])\n",
    "df = df.set_index('Date')\n",
    "for df in (train,test):\n",
    "    for col in columns_to_aggregate:\n",
    "        df[f'{col}_rolling_mean_30'] = df[col].rolling(window=30).mean()\n",
    "        df[f'{col}_rolling_sum_30'] = df[col].rolling(window=30).sum()\n",
    "        df[f'{col}_rolling_max_30'] = df[col].rolling(window=30).max()\n",
    "        df[f'{col}_rolling_min_30'] = df[col].rolling(window=30).min()'''"
   ]
  },
  {
   "cell_type": "markdown",
   "metadata": {},
   "source": [
    "# Missing Values & Encoding"
   ]
  },
  {
   "cell_type": "code",
   "execution_count": 11,
   "metadata": {},
   "outputs": [],
   "source": [
    "groups = train['ID']\n",
    "for df in(train,test):\n",
    "    df.drop(columns=[\"Date\"], axis=1,inplace=True)"
   ]
  },
  {
   "cell_type": "code",
   "execution_count": 12,
   "metadata": {},
   "outputs": [],
   "source": [
    "from sklearn.preprocessing import OneHotEncoder\n",
    "le = OneHotEncoder()\n",
    "le = LabelEncoder()\n",
    "for df in(train,test): \n",
    "    for col in df.columns: \n",
    "        if df[col].dtype == 'object': \n",
    "            df[col] = le.fit_transform(df[col])"
   ]
  },
  {
   "cell_type": "markdown",
   "metadata": {},
   "source": [
    "# CV and Modeling"
   ]
  },
  {
   "cell_type": "code",
   "execution_count": 13,
   "metadata": {},
   "outputs": [],
   "source": [
    "#groups = train['ID']\n",
    "model =  LGBMRegressor(random_state=7)\n",
    "n_splits = 5\n",
    "n = train['GT_NO2'].count()\n",
    "num_bins = int(1 + np.log2(n))\n",
    "#train['GT_NO2_bins'] = pd.cut(train['GT_NO2'], bins=num_bins, labels=False)\n",
    "#test['GT_NO2_bins'] = pd.cut(test['GT_NO2'], bins=num_bins, labels=False)"
   ]
  },
  {
   "cell_type": "code",
   "execution_count": 14,
   "metadata": {},
   "outputs": [
    {
     "ename": "SyntaxError",
     "evalue": "unterminated string literal (detected at line 55) (4145511254.py, line 55)",
     "output_type": "error",
     "traceback": [
      "\u001b[0;36m  Cell \u001b[0;32mIn[14], line 55\u001b[0;36m\u001b[0m\n\u001b[0;31m    \"\"\"\"\u001b[0m\n\u001b[0m       ^\u001b[0m\n\u001b[0;31mSyntaxError\u001b[0m\u001b[0;31m:\u001b[0m unterminated string literal (detected at line 55)\n"
     ]
    }
   ],
   "source": [
    "\"\"\"\"import numpy as np\n",
    "import pandas as pd\n",
    "from lightgbm import LGBMRegressor\n",
    "from sklearn.model_selection import GroupKFold\n",
    "from sklearn.metrics import mean_squared_error\n",
    "\n",
    "# Assuming you have your data in a DataFrame called train and a 'groups' column\n",
    "# Also assuming 'GT_NO2' is your target column\n",
    "\n",
    "model = LGBMRegressor(random_state=7)\n",
    "n_splits = 4\n",
    "cv = GroupKFold(n_splits=n_splits)\n",
    "\n",
    "def validate(trainset, testset, target_col):\n",
    "    model.fit(trainset.drop(columns=target_col), trainset[target_col])\n",
    "    pred = model.predict(testset.drop(columns=target_col))\n",
    "    valid_idx = testset[target_col].notna()\n",
    "    valid_testset = testset[target_col][valid_idx]\n",
    "    valid_pred = pred[valid_idx]\n",
    "    score = mean_squared_error(valid_testset, valid_pred, squared=False)\n",
    "    return score\n",
    "\n",
    "def lofo_analysis(train, target_col, groups, n_splits):\n",
    "    base_rmse = []\n",
    "    for train_idx, test_idx in cv.split(train.drop(columns=target_col), train[target_col], groups=groups):\n",
    "        train_v, test_v = train.iloc[train_idx], train.iloc[test_idx]\n",
    "        base_rmse.append(validate(train_v, test_v, target_col))\n",
    "    base_score = np.array(base_rmse).mean()\n",
    "    print('Base RMSE:', base_score)\n",
    "\n",
    "    feature_importances = {}\n",
    "    for col in train.drop(columns=target_col).columns:\n",
    "        print(f'Evaluating feature: {col}')\n",
    "        scores = []\n",
    "        for train_idx, test_idx in cv.split(train.drop(columns=[target_col, col]), train[target_col], groups=groups):\n",
    "            train_v, test_v = train.iloc[train_idx], train.iloc[test_idx]\n",
    "            scores.append(validate(train_v.drop(columns=col), test_v.drop(columns=col), target_col))\n",
    "        feature_rmse = np.array(scores).mean()\n",
    "        feature_importances[col] = feature_rmse\n",
    "        print(f'Feature {col} removed, RMSE: {feature_rmse}')\n",
    "\n",
    "    bad_features = [col for col in feature_importances if feature_importances[col] > base_score]\n",
    "    good_features = [col for col in feature_importances if feature_importances[col] <= base_score]\n",
    "    \n",
    "    print('Good features:', good_features)\n",
    "    print('Bad features:', bad_features)\n",
    "    \n",
    "    return good_features, bad_features, feature_importances\n",
    "\n",
    "good_features, bad_features, feature_importances = lofo_analysis(train, 'GT_NO2', groups, n_splits)\n",
    "\n",
    "print('Feature importances:')\n",
    "for feature, importance in feature_importances.items():\n",
    "    print(f'{feature}: {importance}')\n",
    "\"\"\"\""
   ]
  },
  {
   "cell_type": "code",
   "execution_count": null,
   "metadata": {},
   "outputs": [],
   "source": [
    "# 'LST', 'AAI', 'NO2_trop_rolling_max_60', 'CloudFraction_rolling_max_60'"
   ]
  },
  {
   "cell_type": "code",
   "execution_count": 15,
   "metadata": {},
   "outputs": [
    {
     "name": "stdout",
     "output_type": "stream",
     "text": [
      "[LightGBM] [Info] Auto-choosing row-wise multi-threading, the overhead of testing was 0.000845 seconds.\n",
      "You can set `force_row_wise=true` to remove the overhead.\n",
      "And if memory is not enough, you can set `force_col_wise=true`.\n",
      "[LightGBM] [Info] Total Bins 2219\n",
      "[LightGBM] [Info] Number of data points in the train set: 64664, number of used features: 11\n",
      "[LightGBM] [Info] Start training from score 24.434701\n",
      "std: 14.844616530580991\n",
      "score: 11.045216500867374\n",
      "[LightGBM] [Info] Auto-choosing row-wise multi-threading, the overhead of testing was 0.001043 seconds.\n",
      "You can set `force_row_wise=true` to remove the overhead.\n",
      "And if memory is not enough, you can set `force_col_wise=true`.\n",
      "[LightGBM] [Info] Total Bins 2219\n",
      "[LightGBM] [Info] Number of data points in the train set: 64664, number of used features: 11\n",
      "[LightGBM] [Info] Start training from score 22.752866\n"
     ]
    },
    {
     "name": "stderr",
     "output_type": "stream",
     "text": [
      "/Users/ahmed/Downloads/computerscience/Kaggle/geoai-ground-level-no2-estimation/geoai-ground/venv-geoai-ground-level-no2-estimation/lib/python3.12/site-packages/sklearn/metrics/_regression.py:492: FutureWarning: 'squared' is deprecated in version 1.4 and will be removed in 1.6. To calculate the root mean squared error, use the function'root_mean_squared_error'.\n",
      "  warnings.warn(\n"
     ]
    },
    {
     "name": "stdout",
     "output_type": "stream",
     "text": [
      "std: 19.09580192108185\n",
      "score: 12.28353355858588\n",
      "[LightGBM] [Info] Auto-choosing row-wise multi-threading, the overhead of testing was 0.000678 seconds.\n",
      "You can set `force_row_wise=true` to remove the overhead.\n",
      "And if memory is not enough, you can set `force_col_wise=true`.\n",
      "[LightGBM] [Info] Total Bins 2220\n",
      "[LightGBM] [Info] Number of data points in the train set: 64664, number of used features: 11\n",
      "[LightGBM] [Info] Start training from score 22.615852\n"
     ]
    },
    {
     "name": "stderr",
     "output_type": "stream",
     "text": [
      "/Users/ahmed/Downloads/computerscience/Kaggle/geoai-ground-level-no2-estimation/geoai-ground/venv-geoai-ground-level-no2-estimation/lib/python3.12/site-packages/sklearn/metrics/_regression.py:492: FutureWarning: 'squared' is deprecated in version 1.4 and will be removed in 1.6. To calculate the root mean squared error, use the function'root_mean_squared_error'.\n",
      "  warnings.warn(\n"
     ]
    },
    {
     "name": "stdout",
     "output_type": "stream",
     "text": [
      "std: 18.147840185499298\n",
      "score: 12.672124323801901\n",
      "[LightGBM] [Info] Auto-choosing row-wise multi-threading, the overhead of testing was 0.000836 seconds.\n",
      "You can set `force_row_wise=true` to remove the overhead.\n",
      "And if memory is not enough, you can set `force_col_wise=true`.\n",
      "[LightGBM] [Info] Total Bins 2222\n",
      "[LightGBM] [Info] Number of data points in the train set: 65760, number of used features: 11\n",
      "[LightGBM] [Info] Start training from score 23.199636\n"
     ]
    },
    {
     "name": "stderr",
     "output_type": "stream",
     "text": [
      "/Users/ahmed/Downloads/computerscience/Kaggle/geoai-ground-level-no2-estimation/geoai-ground/venv-geoai-ground-level-no2-estimation/lib/python3.12/site-packages/sklearn/metrics/_regression.py:492: FutureWarning: 'squared' is deprecated in version 1.4 and will be removed in 1.6. To calculate the root mean squared error, use the function'root_mean_squared_error'.\n",
      "  warnings.warn(\n"
     ]
    },
    {
     "name": "stdout",
     "output_type": "stream",
     "text": [
      "std: 15.385929166349635\n",
      "score: 11.999083302464179\n",
      "RMSE: 11.999989421429834\n",
      "RMSE std: 0.6007817314951462\n",
      "Standard Deviations: [np.float64(14.844616530580993), np.float64(19.09580192108185), np.float64(18.147840185499298), np.float64(15.385929166349635)]\n"
     ]
    },
    {
     "name": "stderr",
     "output_type": "stream",
     "text": [
      "/Users/ahmed/Downloads/computerscience/Kaggle/geoai-ground-level-no2-estimation/geoai-ground/venv-geoai-ground-level-no2-estimation/lib/python3.12/site-packages/sklearn/metrics/_regression.py:492: FutureWarning: 'squared' is deprecated in version 1.4 and will be removed in 1.6. To calculate the root mean squared error, use the function'root_mean_squared_error'.\n",
      "  warnings.warn(\n"
     ]
    }
   ],
   "source": [
    "model = LGBMRegressor(random_state=7)\n",
    "n_splits = 4\n",
    "cv = GroupKFold(n_splits=n_splits)\n",
    "\n",
    "def validate(trainset, testset, target_col):\n",
    "\n",
    "    model.fit(trainset.drop(columns=target_col), trainset[target_col])\n",
    "    pred = model.predict(testset.drop(columns=target_col))\n",
    "    valid_idx = testset[target_col].notna()\n",
    "    valid_testset = testset[target_col][valid_idx]\n",
    "    valid_pred = pred[valid_idx]\n",
    "    print('std:', valid_testset.std())\n",
    "    score = mean_squared_error(valid_testset, valid_pred, squared=False)\n",
    "    print('score:', score)\n",
    "    \n",
    "    return score\n",
    "stds = []\n",
    "rmse = []\n",
    "\n",
    "for train_idx, test_idx in cv.split(train.drop(columns='GT_NO2'), train['GT_NO2'], groups=groups):\n",
    "    train_v, test_v = train.iloc[train_idx], train.iloc[test_idx]\n",
    "    stds.append(test_v['GT_NO2'].std())\n",
    "    rmse.append(validate(train_v, test_v, 'GT_NO2'))\n",
    "\n",
    "print('RMSE:', np.array(rmse).mean())\n",
    "print('RMSE std:', np.array(rmse).std())\n",
    "print('Standard Deviations:', stds)"
   ]
  },
  {
   "cell_type": "code",
   "execution_count": null,
   "metadata": {},
   "outputs": [],
   "source": [
    "pij;"
   ]
  },
  {
   "cell_type": "code",
   "execution_count": null,
   "metadata": {},
   "outputs": [],
   "source": [
    "#11.581549939504997 with month , \n",
    "#12.246931687286574\n",
    "#12.235259341356834\n",
    "#12.231869616518921\n",
    "#12.126333476852636\n",
    "#11.728753513719479\n",
    "#11.724263538742687\n",
    "#11.728753513719479 \n",
    "#11.711277895239192\n",
    "#11.694341231865433\n",
    "#11.671982426722977\n",
    "#11.642227859275334 without the mean - with the custamized means of rolling\n",
    "#11.314985626750522 \n",
    "#11.314985626750522\n",
    "#11.312413659993586\n",
    "#11.135932399851725 \n",
    "#11.728753513719479 best so far features = ['LAT', 'Month','NO2_trop_rolling_max_60','NO2_total_rolling_max_60','TropopausePressure_rolling_max_60','CloudFraction_rolling_max_60','Precipitation_rolling_max_60']\n",
    "#11.40320255907346 with the ID LB = 9.571700669\n",
    "#11.597286160951526 the distance feature"
   ]
  },
  {
   "cell_type": "code",
   "execution_count": null,
   "metadata": {},
   "outputs": [
    {
     "name": "stdout",
     "output_type": "stream",
     "text": [
      "[LightGBM] [Info] Auto-choosing row-wise multi-threading, the overhead of testing was 0.002423 seconds.\n",
      "You can set `force_row_wise=true` to remove the overhead.\n",
      "And if memory is not enough, you can set `force_col_wise=true`.\n",
      "[LightGBM] [Info] Total Bins 3464\n",
      "[LightGBM] [Info] Number of data points in the train set: 86584, number of used features: 16\n",
      "[LightGBM] [Info] Start training from score 23.250548\n"
     ]
    }
   ],
   "source": [
    "model.fit(train.drop(columns='GT_NO2'),train['GT_NO2'])\n",
    "y = model.predict(test)\n",
    "smaple = pd.read_csv('/Users/ahmed/Downloads/computerscience/Kaggle/geoai-ground-level-no2-estimation/geoai-ground/data/SampleSubmission.csv')\n",
    "smaple['GT_NO2'] = post_process(test,y)\n",
    "smaple.to_csv('submissionpost2.csv',index=False)"
   ]
  },
  {
   "cell_type": "code",
   "execution_count": 17,
   "metadata": {},
   "outputs": [
    {
     "name": "stdout",
     "output_type": "stream",
     "text": [
      "[LightGBM] [Info] Auto-choosing col-wise multi-threading, the overhead of testing was 0.005316 seconds.\n",
      "You can set `force_col_wise=true` to remove the overhead.\n",
      "[LightGBM] [Info] Total Bins 2279\n",
      "[LightGBM] [Info] Number of data points in the train set: 86584, number of used features: 11\n",
      "[LightGBM] [Info] Start training from score 23.250548\n"
     ]
    }
   ],
   "source": [
    "model.fit(train.drop(columns='GT_NO2'),train['GT_NO2'])\n",
    "#11.999989421429834\n",
    "y_pred = model.predict(test)\n",
    "sub_df = pd.DataFrame({'id': test_id,'GT_NO2':y_pred})\n",
    "sub_df.to_csv('/Users/ahmed/Downloads/computerscience/Kaggle/geoai-ground-level-no2-estimation/geoai-ground/submissions/submission11999989421429834.csv', index=False)"
   ]
  },
  {
   "cell_type": "code",
   "execution_count": 18,
   "metadata": {},
   "outputs": [
    {
     "data": {
      "image/png": "[encoded data removed]",
      "text/plain": [
       "<Figure size 2000x600 with 1 Axes>"
      ]
     },
     "metadata": {},
     "output_type": "display_data"
    }
   ],
   "source": [
    "importances = model.feature_importances_\n",
    "names = model.feature_name_\n",
    "fi = pd.DataFrame({'Feature': names,\n",
    "                   'importances': importances})\n",
    "fi = fi.sort_values(by='importances', ascending=False)\n",
    "\n",
    "fi.plot(kind='bar', x='Feature', y='importances', legend=False, figsize=(20, 6))\n",
    "plt.title('Feature Importances')\n",
    "plt.xlabel('Features')\n",
    "plt.ylabel('Importance')\n",
    "plt.show()"
   ]
  },
  {
   "cell_type": "code",
   "execution_count": null,
   "metadata": {},
   "outputs": [
    {
     "data": {
      "text/plain": [
       "['ID',\n",
       " 'LAT',\n",
       " 'LON',\n",
       " 'Precipitation',\n",
       " 'LST',\n",
       " 'AAI',\n",
       " 'CloudFraction',\n",
       " 'NO2_strat',\n",
       " 'NO2_total',\n",
       " 'NO2_trop',\n",
       " 'TropopausePressure',\n",
       " 'Month',\n",
       " 'NO2_trop_rolling_max_60',\n",
       " 'NO2_total_rolling_max_60',\n",
       " 'TropopausePressure_rolling_max_60',\n",
       " 'CloudFraction_rolling_max_60',\n",
       " 'Precipitation_rolling_max_60']"
      ]
     },
     "execution_count": 474,
     "metadata": {},
     "output_type": "execute_result"
    }
   ],
   "source": [
    "names"
   ]
  },
  {
   "cell_type": "code",
   "execution_count": null,
   "metadata": {},
   "outputs": [],
   "source": []
  }
 ],
 "metadata": {
  "kernelspec": {
   "display_name": "venv-geoai-ground-level-no2-estimation",
   "language": "python",
   "name": "python3"
  },
  "language_info": {
   "codemirror_mode": {
    "name": "ipython",
    "version": 3
   },
   "file_extension": ".py",
   "mimetype": "text/x-python",
   "name": "python",
   "nbconvert_exporter": "python",
   "pygments_lexer": "ipython3",
   "version": "3.12.4"
  }
 },
 "nbformat": 4,
 "nbformat_minor": 2
}
